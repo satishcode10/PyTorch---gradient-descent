{
 "cells": [
  {
   "cell_type": "code",
   "execution_count": 1,
   "id": "4fe55810",
   "metadata": {},
   "outputs": [
    {
     "name": "stdout",
     "output_type": "stream",
     "text": [
      "Requirement already satisfied: numpy in /opt/anaconda3/lib/python3.11/site-packages (1.26.4)\n",
      "Requirement already satisfied: torch in /opt/anaconda3/lib/python3.11/site-packages (2.5.1)\n",
      "Requirement already satisfied: torchvision in /opt/anaconda3/lib/python3.11/site-packages (0.20.1)\n",
      "Requirement already satisfied: torchaudio in /opt/anaconda3/lib/python3.11/site-packages (2.5.1)\n",
      "Requirement already satisfied: filelock in /opt/anaconda3/lib/python3.11/site-packages (from torch) (3.13.1)\n",
      "Requirement already satisfied: typing-extensions>=4.8.0 in /opt/anaconda3/lib/python3.11/site-packages (from torch) (4.9.0)\n",
      "Requirement already satisfied: networkx in /opt/anaconda3/lib/python3.11/site-packages (from torch) (3.1)\n",
      "Requirement already satisfied: jinja2 in /opt/anaconda3/lib/python3.11/site-packages (from torch) (3.1.3)\n",
      "Requirement already satisfied: fsspec in /opt/anaconda3/lib/python3.11/site-packages (from torch) (2023.10.0)\n",
      "Requirement already satisfied: sympy==1.13.1 in /opt/anaconda3/lib/python3.11/site-packages (from torch) (1.13.1)\n",
      "Requirement already satisfied: mpmath<1.4,>=1.1.0 in /opt/anaconda3/lib/python3.11/site-packages (from sympy==1.13.1->torch) (1.3.0)\n",
      "Requirement already satisfied: pillow!=8.3.*,>=5.3.0 in /opt/anaconda3/lib/python3.11/site-packages (from torchvision) (10.2.0)\n",
      "Requirement already satisfied: MarkupSafe>=2.0 in /opt/anaconda3/lib/python3.11/site-packages (from jinja2->torch) (2.1.3)\n"
     ]
    }
   ],
   "source": [
    "!pip install numpy torch torchvision torchaudio"
   ]
  },
  {
   "cell_type": "code",
   "execution_count": 2,
   "id": "3c21c681",
   "metadata": {},
   "outputs": [],
   "source": [
    "import torch\n",
    "import numpy as np"
   ]
  },
  {
   "cell_type": "code",
   "execution_count": 3,
   "id": "25d2e2a7",
   "metadata": {},
   "outputs": [
    {
     "data": {
      "text/plain": [
       "tensor(4.)"
      ]
     },
     "execution_count": 3,
     "metadata": {},
     "output_type": "execute_result"
    }
   ],
   "source": [
    "t1 = torch.tensor(4.0)\n",
    "t1"
   ]
  },
  {
   "cell_type": "code",
   "execution_count": 4,
   "id": "af9582ea",
   "metadata": {},
   "outputs": [
    {
     "data": {
      "text/plain": [
       "torch.float32"
      ]
     },
     "execution_count": 4,
     "metadata": {},
     "output_type": "execute_result"
    }
   ],
   "source": [
    "t1.dtype"
   ]
  },
  {
   "cell_type": "code",
   "execution_count": 5,
   "id": "536bda7f",
   "metadata": {},
   "outputs": [
    {
     "data": {
      "text/plain": [
       "0"
      ]
     },
     "execution_count": 5,
     "metadata": {},
     "output_type": "execute_result"
    }
   ],
   "source": [
    "t1.ndim"
   ]
  },
  {
   "cell_type": "code",
   "execution_count": 6,
   "id": "a10ffde1",
   "metadata": {},
   "outputs": [
    {
     "data": {
      "text/plain": [
       "4.0"
      ]
     },
     "execution_count": 6,
     "metadata": {},
     "output_type": "execute_result"
    }
   ],
   "source": [
    "t1.item()"
   ]
  },
  {
   "cell_type": "code",
   "execution_count": 7,
   "id": "571b114e",
   "metadata": {},
   "outputs": [],
   "source": [
    "int_t1 = t1.type(torch.int32)"
   ]
  },
  {
   "cell_type": "code",
   "execution_count": 8,
   "id": "8d4ef2c7",
   "metadata": {},
   "outputs": [
    {
     "data": {
      "text/plain": [
       "tensor(4, dtype=torch.int32)"
      ]
     },
     "execution_count": 8,
     "metadata": {},
     "output_type": "execute_result"
    }
   ],
   "source": [
    "int_t1"
   ]
  },
  {
   "cell_type": "code",
   "execution_count": 9,
   "id": "23c89c04",
   "metadata": {},
   "outputs": [],
   "source": [
    "float_t1 = int_t1.type(torch.float32)"
   ]
  },
  {
   "cell_type": "code",
   "execution_count": 10,
   "id": "c645b468",
   "metadata": {},
   "outputs": [
    {
     "data": {
      "text/plain": [
       "torch.float32"
      ]
     },
     "execution_count": 10,
     "metadata": {},
     "output_type": "execute_result"
    }
   ],
   "source": [
    "float_t1.dtype"
   ]
  },
  {
   "cell_type": "code",
   "execution_count": 11,
   "id": "114c4d3b",
   "metadata": {},
   "outputs": [],
   "source": [
    "t2 = torch.tensor([1,2,3,4,5])"
   ]
  },
  {
   "cell_type": "code",
   "execution_count": 12,
   "id": "0c96f96d",
   "metadata": {},
   "outputs": [
    {
     "data": {
      "text/plain": [
       "torch.float32"
      ]
     },
     "execution_count": 12,
     "metadata": {},
     "output_type": "execute_result"
    }
   ],
   "source": [
    "t1.dtype"
   ]
  },
  {
   "cell_type": "code",
   "execution_count": 13,
   "id": "fe2c8397",
   "metadata": {},
   "outputs": [
    {
     "data": {
      "text/plain": [
       "torch.int64"
      ]
     },
     "execution_count": 13,
     "metadata": {},
     "output_type": "execute_result"
    }
   ],
   "source": [
    "t2.dtype"
   ]
  },
  {
   "cell_type": "code",
   "execution_count": 14,
   "id": "6343e497",
   "metadata": {},
   "outputs": [
    {
     "data": {
      "text/plain": [
       "tensor([1, 2, 3, 4, 5])"
      ]
     },
     "execution_count": 14,
     "metadata": {},
     "output_type": "execute_result"
    }
   ],
   "source": [
    "t2"
   ]
  },
  {
   "cell_type": "code",
   "execution_count": 15,
   "id": "87c11cc6",
   "metadata": {},
   "outputs": [],
   "source": [
    "t2_float = t2.type(torch.float32)"
   ]
  },
  {
   "cell_type": "code",
   "execution_count": 16,
   "id": "8df80a71",
   "metadata": {},
   "outputs": [
    {
     "data": {
      "text/plain": [
       "torch.int64"
      ]
     },
     "execution_count": 16,
     "metadata": {},
     "output_type": "execute_result"
    }
   ],
   "source": [
    "t2.dtype"
   ]
  },
  {
   "cell_type": "code",
   "execution_count": 17,
   "id": "7f3b8f6b",
   "metadata": {},
   "outputs": [
    {
     "data": {
      "text/plain": [
       "torch.float32"
      ]
     },
     "execution_count": 17,
     "metadata": {},
     "output_type": "execute_result"
    }
   ],
   "source": [
    "t2_float.dtype"
   ]
  },
  {
   "cell_type": "code",
   "execution_count": 18,
   "id": "c0fd32cb",
   "metadata": {},
   "outputs": [
    {
     "data": {
      "text/plain": [
       "tensor([1, 2, 3, 4, 5])"
      ]
     },
     "execution_count": 18,
     "metadata": {},
     "output_type": "execute_result"
    }
   ],
   "source": [
    "t2"
   ]
  },
  {
   "cell_type": "code",
   "execution_count": 19,
   "id": "aa78ea3b",
   "metadata": {},
   "outputs": [
    {
     "data": {
      "text/plain": [
       "tensor([1., 2., 3., 4., 5.])"
      ]
     },
     "execution_count": 19,
     "metadata": {},
     "output_type": "execute_result"
    }
   ],
   "source": [
    "t2_float"
   ]
  },
  {
   "cell_type": "code",
   "execution_count": 20,
   "id": "c74a8037",
   "metadata": {},
   "outputs": [],
   "source": [
    "#3 dimensional tensors"
   ]
  },
  {
   "cell_type": "code",
   "execution_count": 21,
   "id": "9d5ce55e",
   "metadata": {},
   "outputs": [],
   "source": [
    "t3 = torch.tensor([[[1,2,3,4],\n",
    "                  [4,5,6,7]],\n",
    "                 [[1,2,3,4],\n",
    "                 [4,5,6,7]]])"
   ]
  },
  {
   "cell_type": "code",
   "execution_count": 22,
   "id": "367a3e00",
   "metadata": {},
   "outputs": [
    {
     "data": {
      "text/plain": [
       "tensor([[[1, 2, 3, 4],\n",
       "         [4, 5, 6, 7]],\n",
       "\n",
       "        [[1, 2, 3, 4],\n",
       "         [4, 5, 6, 7]]])"
      ]
     },
     "execution_count": 22,
     "metadata": {},
     "output_type": "execute_result"
    }
   ],
   "source": [
    "t3\n"
   ]
  },
  {
   "cell_type": "code",
   "execution_count": 23,
   "id": "d3d19f61",
   "metadata": {},
   "outputs": [
    {
     "data": {
      "text/plain": [
       "torch.int64"
      ]
     },
     "execution_count": 23,
     "metadata": {},
     "output_type": "execute_result"
    }
   ],
   "source": [
    "t3.dtype"
   ]
  },
  {
   "cell_type": "code",
   "execution_count": 24,
   "id": "0e232663",
   "metadata": {},
   "outputs": [
    {
     "data": {
      "text/plain": [
       "3"
      ]
     },
     "execution_count": 24,
     "metadata": {},
     "output_type": "execute_result"
    }
   ],
   "source": [
    "t3.ndim"
   ]
  },
  {
   "cell_type": "code",
   "execution_count": 25,
   "id": "7b595110",
   "metadata": {},
   "outputs": [
    {
     "data": {
      "text/plain": [
       "<function Tensor.item>"
      ]
     },
     "execution_count": 25,
     "metadata": {},
     "output_type": "execute_result"
    }
   ],
   "source": [
    "t3.item"
   ]
  },
  {
   "cell_type": "code",
   "execution_count": 26,
   "id": "f9a9cf9b",
   "metadata": {},
   "outputs": [
    {
     "data": {
      "text/plain": [
       "torch.Size([2, 2, 4])"
      ]
     },
     "execution_count": 26,
     "metadata": {},
     "output_type": "execute_result"
    }
   ],
   "source": [
    "t3.shape"
   ]
  },
  {
   "cell_type": "code",
   "execution_count": 27,
   "id": "3da5cceb",
   "metadata": {},
   "outputs": [],
   "source": [
    "##Tensor operations and gradients\n",
    "#We can combine tensors with the usual arithmetic operations\n"
   ]
  },
  {
   "cell_type": "raw",
   "id": "8f0bbac0",
   "metadata": {},
   "source": [
    "#Create tensors"
   ]
  },
  {
   "cell_type": "code",
   "execution_count": 28,
   "id": "7d08554a",
   "metadata": {},
   "outputs": [],
   "source": [
    "x = torch.tensor(3.)                      #not interested in future derivative with respect to x, esma chai requires_grad bhanne na rakheko cause we are not interested in the derivate of this value\n",
    "w = torch.tensor(4., requires_grad = True)      #for backward propagation or for computing the derivatives\n",
    "b = torch.tensor(5., requires_grad = True)\n"
   ]
  },
  {
   "cell_type": "code",
   "execution_count": 29,
   "id": "f42128e6",
   "metadata": {},
   "outputs": [
    {
     "data": {
      "text/plain": [
       "(tensor(3.), tensor(4., requires_grad=True), tensor(5., requires_grad=True))"
      ]
     },
     "execution_count": 29,
     "metadata": {},
     "output_type": "execute_result"
    }
   ],
   "source": [
    "x, w, b"
   ]
  },
  {
   "cell_type": "code",
   "execution_count": 30,
   "id": "c5a67a0e",
   "metadata": {},
   "outputs": [],
   "source": [
    "#Lets create a tensor y by combining the tensors we just created"
   ]
  },
  {
   "cell_type": "code",
   "execution_count": 31,
   "id": "2b695868",
   "metadata": {},
   "outputs": [],
   "source": [
    "y = w * x + b"
   ]
  },
  {
   "cell_type": "code",
   "execution_count": 32,
   "id": "9d78ac38",
   "metadata": {},
   "outputs": [
    {
     "data": {
      "text/plain": [
       "tensor(17., grad_fn=<AddBackward0>)"
      ]
     },
     "execution_count": 32,
     "metadata": {},
     "output_type": "execute_result"
    }
   ],
   "source": [
    "y"
   ]
  },
  {
   "cell_type": "code",
   "execution_count": 33,
   "id": "c4ab711a",
   "metadata": {},
   "outputs": [],
   "source": [
    "#computing derivates\n",
    "y.backward()"
   ]
  },
  {
   "cell_type": "markdown",
   "id": "bc9ad244",
   "metadata": {},
   "source": [
    "The derivatives of y with respect to the input tensors are stored in the .grad property of the respective tensors"
   ]
  },
  {
   "cell_type": "code",
   "execution_count": 34,
   "id": "92873e1d",
   "metadata": {},
   "outputs": [
    {
     "name": "stdout",
     "output_type": "stream",
     "text": [
      "dy/dx: None\n",
      "dy/dw: tensor(3.)\n",
      "dy/db: tensor(1.)\n"
     ]
    }
   ],
   "source": [
    "#Display gradients\n",
    "print('dy/dx:', x.grad)\n",
    "print('dy/dw:', w.grad)\n",
    "print('dy/db:', b.grad)\n"
   ]
  },
  {
   "cell_type": "markdown",
   "id": "a956032a",
   "metadata": {},
   "source": [
    "The \"grad\" in w.grad is short for gradient, which is another term for derivative. The term gradient is primarily used while dealing with vectors and matrices"
   ]
  },
  {
   "cell_type": "code",
   "execution_count": 35,
   "id": "f361266d",
   "metadata": {},
   "outputs": [
    {
     "data": {
      "text/plain": [
       "tensor([[10, 10, 10, 10],\n",
       "        [10, 10, 10, 10],\n",
       "        [10, 10, 10, 10]])"
      ]
     },
     "execution_count": 35,
     "metadata": {},
     "output_type": "execute_result"
    }
   ],
   "source": [
    "#Creating a tensor with a fixed value for every element\n",
    "\n",
    "t5 = torch.full((3,4), 10)\n",
    "t5"
   ]
  },
  {
   "cell_type": "code",
   "execution_count": 36,
   "id": "bc23e1ba",
   "metadata": {},
   "outputs": [],
   "source": [
    "#Concatenating two tensors with compatible shapes\n",
    "t6 = torch.full((3,4), 2)\n",
    "t7 = torch.cat((t5, t6), dim =0)"
   ]
  },
  {
   "cell_type": "code",
   "execution_count": 37,
   "id": "a2225c8f",
   "metadata": {},
   "outputs": [
    {
     "data": {
      "text/plain": [
       "tensor([[10, 10, 10, 10],\n",
       "        [10, 10, 10, 10],\n",
       "        [10, 10, 10, 10],\n",
       "        [ 2,  2,  2,  2],\n",
       "        [ 2,  2,  2,  2],\n",
       "        [ 2,  2,  2,  2]])"
      ]
     },
     "execution_count": 37,
     "metadata": {},
     "output_type": "execute_result"
    }
   ],
   "source": [
    "t7"
   ]
  },
  {
   "cell_type": "code",
   "execution_count": 38,
   "id": "cde4370b",
   "metadata": {},
   "outputs": [],
   "source": [
    "t7_col = torch.cat((t5, t6), dim =1)"
   ]
  },
  {
   "cell_type": "code",
   "execution_count": 39,
   "id": "e7325d0a",
   "metadata": {},
   "outputs": [
    {
     "data": {
      "text/plain": [
       "tensor([[10, 10, 10, 10,  2,  2,  2,  2],\n",
       "        [10, 10, 10, 10,  2,  2,  2,  2],\n",
       "        [10, 10, 10, 10,  2,  2,  2,  2]])"
      ]
     },
     "execution_count": 39,
     "metadata": {},
     "output_type": "execute_result"
    }
   ],
   "source": [
    "t7_col"
   ]
  },
  {
   "cell_type": "code",
   "execution_count": 40,
   "id": "21c93c38",
   "metadata": {},
   "outputs": [
    {
     "data": {
      "text/plain": [
       "tensor([[-0.5440, -0.5440, -0.5440, -0.5440],\n",
       "        [-0.5440, -0.5440, -0.5440, -0.5440],\n",
       "        [-0.5440, -0.5440, -0.5440, -0.5440],\n",
       "        [ 0.9093,  0.9093,  0.9093,  0.9093],\n",
       "        [ 0.9093,  0.9093,  0.9093,  0.9093],\n",
       "        [ 0.9093,  0.9093,  0.9093,  0.9093]])"
      ]
     },
     "execution_count": 40,
     "metadata": {},
     "output_type": "execute_result"
    }
   ],
   "source": [
    "#Computing the sin of each element\n",
    "\n",
    "t8 = torch.sin(t7)\n",
    "t8"
   ]
  },
  {
   "cell_type": "code",
   "execution_count": 41,
   "id": "1a1e57f2",
   "metadata": {},
   "outputs": [
    {
     "data": {
      "text/plain": [
       "torch.Size([6, 4])"
      ]
     },
     "execution_count": 41,
     "metadata": {},
     "output_type": "execute_result"
    }
   ],
   "source": [
    "#Changing the shape of a tensor\n",
    "\n",
    "t8.shape"
   ]
  },
  {
   "cell_type": "code",
   "execution_count": 42,
   "id": "d113361c",
   "metadata": {},
   "outputs": [
    {
     "data": {
      "text/plain": [
       "tensor([[[-0.5440, -0.5440, -0.5440, -0.5440],\n",
       "         [-0.5440, -0.5440, -0.5440, -0.5440]],\n",
       "\n",
       "        [[-0.5440, -0.5440, -0.5440, -0.5440],\n",
       "         [ 0.9093,  0.9093,  0.9093,  0.9093]],\n",
       "\n",
       "        [[ 0.9093,  0.9093,  0.9093,  0.9093],\n",
       "         [ 0.9093,  0.9093,  0.9093,  0.9093]]])"
      ]
     },
     "execution_count": 42,
     "metadata": {},
     "output_type": "execute_result"
    }
   ],
   "source": [
    "t9 = t8.reshape(3,2,4)\n",
    "t9"
   ]
  },
  {
   "cell_type": "code",
   "execution_count": 43,
   "id": "5cec5de6",
   "metadata": {},
   "outputs": [
    {
     "data": {
      "text/plain": [
       "array([[1, 2],\n",
       "       [3, 4]])"
      ]
     },
     "execution_count": 43,
     "metadata": {},
     "output_type": "execute_result"
    }
   ],
   "source": [
    "#Interoperability with Numpy\n",
    "\n",
    "x = np.array([[1,2],\n",
    "             [3,4]])\n",
    "x"
   ]
  },
  {
   "cell_type": "code",
   "execution_count": 44,
   "id": "31507758",
   "metadata": {},
   "outputs": [],
   "source": [
    "#Changing into tensor\n",
    "\n",
    "tx = torch.from_numpy(x)"
   ]
  },
  {
   "cell_type": "code",
   "execution_count": 45,
   "id": "83dcd102",
   "metadata": {},
   "outputs": [
    {
     "data": {
      "text/plain": [
       "tensor([[1, 2],\n",
       "        [3, 4]])"
      ]
     },
     "execution_count": 45,
     "metadata": {},
     "output_type": "execute_result"
    }
   ],
   "source": [
    "tx"
   ]
  },
  {
   "cell_type": "code",
   "execution_count": 46,
   "id": "0b9418e3",
   "metadata": {},
   "outputs": [
    {
     "data": {
      "text/plain": [
       "(dtype('int64'), torch.int64)"
      ]
     },
     "execution_count": 46,
     "metadata": {},
     "output_type": "execute_result"
    }
   ],
   "source": [
    "x.dtype, tx.dtype"
   ]
  },
  {
   "cell_type": "code",
   "execution_count": 47,
   "id": "4c97ab7e",
   "metadata": {},
   "outputs": [
    {
     "data": {
      "text/plain": [
       "array([[1, 2],\n",
       "       [3, 4]])"
      ]
     },
     "execution_count": 47,
     "metadata": {},
     "output_type": "execute_result"
    }
   ],
   "source": [
    "#Changing back to numpy\n",
    "\n",
    "z = tx.numpy()\n",
    "z"
   ]
  },
  {
   "cell_type": "markdown",
   "id": "b0eba86e",
   "metadata": {},
   "source": [
    "Why use Pytorch when we have preexisting Numpy which already provides data structures and utlities for working with multi-dimensional numeric data?\n",
    "Two main reasons:\n",
    "1 - Autograd: The ability to automatically compute gradients for tensor operations is essential for training deep learning models.\n",
    "2 - GPU support: While working with massive datasets and large models, Pytorch tensor operations can be performed efficintly using GPU that might typically take hours can be completed within minutes using GPU.\n"
   ]
  },
  {
   "cell_type": "markdown",
   "id": "48b5fd65",
   "metadata": {},
   "source": [
    "# Gradient Descent and Linear Regression with PyTorch\n"
   ]
  },
  {
   "cell_type": "code",
   "execution_count": 48,
   "id": "89db3db0",
   "metadata": {},
   "outputs": [],
   "source": [
    "#As an example we would look at a chart of crop yields which contains input variables like temp, rainfall, and humidity in correspond to the target variable of apple and oranges produced"
   ]
  },
  {
   "cell_type": "code",
   "execution_count": 49,
   "id": "3e6f7461",
   "metadata": {},
   "outputs": [],
   "source": [
    "#Input (temp, rainfall, humidity)\n",
    "\n",
    "inputs = np.array([[73,67,43],\n",
    "                  [91,88,64],\n",
    "                  [87,134,58],\n",
    "                  [102, 43, 37],\n",
    "                  [69,96,70]], dtype = 'float32')"
   ]
  },
  {
   "cell_type": "code",
   "execution_count": 50,
   "id": "f45944fb",
   "metadata": {},
   "outputs": [],
   "source": [
    "#Targets(apples, oranges)\n",
    "\n",
    "targets = np.array([[56,70],\n",
    "                   [81,101],\n",
    "                   [119,133],\n",
    "                   [22,37],\n",
    "                   [103,119]], dtype = 'float32')"
   ]
  },
  {
   "cell_type": "code",
   "execution_count": 51,
   "id": "e977f1e1",
   "metadata": {},
   "outputs": [
    {
     "data": {
      "text/plain": [
       "(array([[ 73.,  67.,  43.],\n",
       "        [ 91.,  88.,  64.],\n",
       "        [ 87., 134.,  58.],\n",
       "        [102.,  43.,  37.],\n",
       "        [ 69.,  96.,  70.]], dtype=float32),\n",
       " array([[ 56.,  70.],\n",
       "        [ 81., 101.],\n",
       "        [119., 133.],\n",
       "        [ 22.,  37.],\n",
       "        [103., 119.]], dtype=float32))"
      ]
     },
     "execution_count": 51,
     "metadata": {},
     "output_type": "execute_result"
    }
   ],
   "source": [
    "inputs, targets"
   ]
  },
  {
   "cell_type": "code",
   "execution_count": 52,
   "id": "2fb5103f",
   "metadata": {},
   "outputs": [
    {
     "name": "stdout",
     "output_type": "stream",
     "text": [
      "tensor([[ 73.,  67.,  43.],\n",
      "        [ 91.,  88.,  64.],\n",
      "        [ 87., 134.,  58.],\n",
      "        [102.,  43.,  37.],\n",
      "        [ 69.,  96.,  70.]])\n",
      "tensor([[ 56.,  70.],\n",
      "        [ 81., 101.],\n",
      "        [119., 133.],\n",
      "        [ 22.,  37.],\n",
      "        [103., 119.]])\n"
     ]
    }
   ],
   "source": [
    "#Converting inputs ans targets into tensors\n",
    "\n",
    "inputs = torch.from_numpy(inputs)\n",
    "targets = torch.from_numpy(targets)\n",
    "print(inputs)\n",
    "print(targets)"
   ]
  },
  {
   "cell_type": "markdown",
   "id": "5c6adfc8",
   "metadata": {},
   "source": [
    "# Linear Regression from the Scratch\n"
   ]
  },
  {
   "cell_type": "markdown",
   "id": "4c5b5aa4",
   "metadata": {},
   "source": [
    "In a linear regressoion model, each target variable is estimated to be a weighted sum of the input variables, offset by some constant, known as a bias:\n",
    "\n",
    "     yield_apple = w11 * temp + w12 * rainfall + w13 * humidity + b1\n",
    "     yield_orange = w21 * temp + w22 * rainfall + w23 * humidity + b2"
   ]
  },
  {
   "cell_type": "markdown",
   "id": "b50fc50d",
   "metadata": {},
   "source": [
    "The weights and biases(w11, w12, ..., b1 and b2) can also be represented as matrices, initialized as random variables.\n",
    "The first row of w and the first element of b are used to predict the first target variables, i.e., yield of apples, ans similarly, the second for oranges.\n"
   ]
  },
  {
   "cell_type": "code",
   "execution_count": 53,
   "id": "4845c151",
   "metadata": {},
   "outputs": [
    {
     "name": "stdout",
     "output_type": "stream",
     "text": [
      "tensor([[-0.9381,  0.3945,  2.7540],\n",
      "        [ 1.4411,  0.8046,  0.5659]], requires_grad=True)\n",
      "tensor([ 1.9935, -1.0061], requires_grad=True)\n"
     ]
    }
   ],
   "source": [
    "#Weights and biases\n",
    "\n",
    "w = torch.randn(2,3, requires_grad = True)    #torch.randn creates a tensor with the given shape, with elements picked randomly from a normal distribution with mean 0 and standard deviation 1.\n",
    "b = torch.randn(2, requires_grad = True)\n",
    "print(w)\n",
    "print(b)"
   ]
  },
  {
   "cell_type": "code",
   "execution_count": 54,
   "id": "16f3a785",
   "metadata": {},
   "outputs": [
    {
     "data": {
      "text/plain": [
       "tensor([[ 73.,  67.,  43.],\n",
       "        [ 91.,  88.,  64.],\n",
       "        [ 87., 134.,  58.],\n",
       "        [102.,  43.,  37.],\n",
       "        [ 69.,  96.,  70.]])"
      ]
     },
     "execution_count": 54,
     "metadata": {},
     "output_type": "execute_result"
    }
   ],
   "source": [
    "inputs"
   ]
  },
  {
   "cell_type": "code",
   "execution_count": 55,
   "id": "640565f5",
   "metadata": {},
   "outputs": [
    {
     "data": {
      "text/plain": [
       "tensor([[ 78.3711, 182.4325],\n",
       "        [127.6053, 237.1517],\n",
       "        [132.9815, 265.0025],\n",
       "        [ 25.1749, 201.5186],\n",
       "        [167.9227, 215.2800]], grad_fn=<AddBackward0>)"
      ]
     },
     "execution_count": 55,
     "metadata": {},
     "output_type": "execute_result"
    }
   ],
   "source": [
    "inputs @ w.t() + b"
   ]
  },
  {
   "cell_type": "code",
   "execution_count": 56,
   "id": "e5875fe4",
   "metadata": {},
   "outputs": [],
   "source": [
    "#OR using the function\n",
    "\n",
    "def model(x):\n",
    "    return x @ w.t() + b"
   ]
  },
  {
   "cell_type": "code",
   "execution_count": 57,
   "id": "fcffb418",
   "metadata": {},
   "outputs": [
    {
     "name": "stdout",
     "output_type": "stream",
     "text": [
      "tensor([[ 78.3711, 182.4325],\n",
      "        [127.6053, 237.1517],\n",
      "        [132.9815, 265.0025],\n",
      "        [ 25.1749, 201.5186],\n",
      "        [167.9227, 215.2800]], grad_fn=<AddBackward0>)\n"
     ]
    }
   ],
   "source": [
    "#generate predictions\n",
    "\n",
    "preds = model(inputs)\n",
    "print(preds)"
   ]
  },
  {
   "cell_type": "code",
   "execution_count": 58,
   "id": "dfe89064",
   "metadata": {},
   "outputs": [],
   "source": [
    "#comparing the predictions of our models with the actual targets"
   ]
  },
  {
   "cell_type": "code",
   "execution_count": 59,
   "id": "8bb64e70",
   "metadata": {},
   "outputs": [
    {
     "name": "stdout",
     "output_type": "stream",
     "text": [
      "tensor([[ 56.,  70.],\n",
      "        [ 81., 101.],\n",
      "        [119., 133.],\n",
      "        [ 22.,  37.],\n",
      "        [103., 119.]])\n"
     ]
    }
   ],
   "source": [
    "print(targets)"
   ]
  },
  {
   "cell_type": "code",
   "execution_count": 60,
   "id": "40388f6b",
   "metadata": {},
   "outputs": [],
   "source": [
    "#we can see there is a big difference between our model's predictions and the actual targets because we've initialized our model with random weights and biases."
   ]
  },
  {
   "cell_type": "markdown",
   "id": "4ffce179",
   "metadata": {},
   "source": [
    "# Loss Function"
   ]
  },
  {
   "cell_type": "markdown",
   "id": "5816ce1f",
   "metadata": {},
   "source": [
    "Before we improve our model, we need a way to evaluate how well our model is performing. We can compare the model's\n",
    "predictions with the actual targets using the following method:\n",
    "    1- Calculate the diff between two matrices (preds and targets)\n",
    "    2- Square all elements of the diff matrix to remove negative values\n",
    "    3- Calculate the average of the elements in the resulting matrix\n",
    "The result is a single number, known as the mean squared error(MSE)"
   ]
  },
  {
   "cell_type": "code",
   "execution_count": 61,
   "id": "0a7b61e6",
   "metadata": {},
   "outputs": [
    {
     "data": {
      "text/plain": [
       "tensor([[ 22.3711, 112.4325],\n",
       "        [ 46.6053, 136.1517],\n",
       "        [ 13.9815, 132.0025],\n",
       "        [  3.1749, 164.5186],\n",
       "        [ 64.9227,  96.2800]], grad_fn=<SubBackward0>)"
      ]
     },
     "execution_count": 61,
     "metadata": {},
     "output_type": "execute_result"
    }
   ],
   "source": [
    "#MSE loss\n",
    "\n",
    "preds - targets"
   ]
  },
  {
   "cell_type": "code",
   "execution_count": 62,
   "id": "1185a0fa",
   "metadata": {},
   "outputs": [
    {
     "data": {
      "text/plain": [
       "tensor([[5.0046e+02, 1.2641e+04],\n",
       "        [2.1721e+03, 1.8537e+04],\n",
       "        [1.9548e+02, 1.7425e+04],\n",
       "        [1.0080e+01, 2.7066e+04],\n",
       "        [4.2150e+03, 9.2698e+03]], grad_fn=<MulBackward0>)"
      ]
     },
     "execution_count": 62,
     "metadata": {},
     "output_type": "execute_result"
    }
   ],
   "source": [
    "diff = preds - targets\n",
    "diff * diff"
   ]
  },
  {
   "cell_type": "code",
   "execution_count": 63,
   "id": "9b6ec104",
   "metadata": {},
   "outputs": [
    {
     "data": {
      "text/plain": [
       "tensor(9203.2256, grad_fn=<DivBackward0>)"
      ]
     },
     "execution_count": 63,
     "metadata": {},
     "output_type": "execute_result"
    }
   ],
   "source": [
    "torch.sum(diff * diff) / diff.numel()   #calculating the average "
   ]
  },
  {
   "cell_type": "code",
   "execution_count": 64,
   "id": "c47ba994",
   "metadata": {},
   "outputs": [],
   "source": [
    "#Using a function\n",
    "\n",
    "def mse(t1, t2):\n",
    "    diff = t1 - t2\n",
    "    return torch.sum(diff * diff) / diff.numel()"
   ]
  },
  {
   "cell_type": "code",
   "execution_count": 65,
   "id": "11f865a7",
   "metadata": {},
   "outputs": [
    {
     "name": "stdout",
     "output_type": "stream",
     "text": [
      "tensor(9203.2256, grad_fn=<DivBackward0>)\n"
     ]
    }
   ],
   "source": [
    "#Computing the loss\n",
    "\n",
    "loss = mse(preds, targets)\n",
    "print(loss)"
   ]
  },
  {
   "cell_type": "markdown",
   "id": "b54864a1",
   "metadata": {},
   "source": [
    "Looking at the resuly we can say that, On average, each element in the prediction differs from the actual target by the square root of the loss."
   ]
  },
  {
   "cell_type": "markdown",
   "id": "535ba660",
   "metadata": {},
   "source": [
    "# Computing Gradients"
   ]
  },
  {
   "cell_type": "code",
   "execution_count": 66,
   "id": "7917b1ad",
   "metadata": {},
   "outputs": [],
   "source": [
    "loss.backward()"
   ]
  },
  {
   "cell_type": "code",
   "execution_count": 67,
   "id": "e05ed68b",
   "metadata": {},
   "outputs": [
    {
     "name": "stdout",
     "output_type": "stream",
     "text": [
      "tensor([[-0.9381,  0.3945,  2.7540],\n",
      "        [ 1.4411,  0.8046,  0.5659]], requires_grad=True)\n",
      "tensor([[ 2378.8135,  2768.5505,  1883.5369],\n",
      "        [11101.1621, 10703.9688,  6806.2480]])\n"
     ]
    }
   ],
   "source": [
    "#Gradients for weights\n",
    "print(w)\n",
    "print(w.grad)"
   ]
  },
  {
   "cell_type": "code",
   "execution_count": 68,
   "id": "0578af99",
   "metadata": {},
   "outputs": [
    {
     "name": "stdout",
     "output_type": "stream",
     "text": [
      "tensor([ 1.9935, -1.0061], requires_grad=True)\n",
      "tensor([ 30.2111, 128.2771])\n"
     ]
    }
   ],
   "source": [
    "print(b)\n",
    "print(b.grad)"
   ]
  },
  {
   "cell_type": "markdown",
   "id": "934655d4",
   "metadata": {},
   "source": [
    "If the gradient is positive we can figure out from the graph that, we see that:\n",
    "    - increasing the weight element's value slightly will increase the loss.\n",
    "    - decreasing the weight element's value slightly will decrease the loss.\n",
    "\n",
    "If the gradient is negative we can figure out from the graph that, we see that:\n",
    "    - increasing the weight element's value slightly will decrease the loss.\n",
    "    - decreasing the weight element's value slightly will increase the loss."
   ]
  },
  {
   "cell_type": "code",
   "execution_count": 69,
   "id": "49f189bd",
   "metadata": {},
   "outputs": [],
   "source": [
    "with torch.no_grad():\n",
    "    w -= w.grad * 1e-5\n",
    "    b -= b.grad * 1e-5"
   ]
  },
  {
   "cell_type": "code",
   "execution_count": 70,
   "id": "b0020308",
   "metadata": {},
   "outputs": [
    {
     "data": {
      "text/plain": [
       "(tensor([[-0.9618,  0.3668,  2.7352],\n",
       "         [ 1.3301,  0.6975,  0.4978]], requires_grad=True),\n",
       " tensor([ 1.9932, -1.0074], requires_grad=True))"
      ]
     },
     "execution_count": 70,
     "metadata": {},
     "output_type": "execute_result"
    }
   ],
   "source": [
    "w,b"
   ]
  },
  {
   "cell_type": "code",
   "execution_count": 71,
   "id": "915ec591",
   "metadata": {},
   "outputs": [
    {
     "name": "stdout",
     "output_type": "stream",
     "text": [
      "tensor(6461.8682, grad_fn=<DivBackward0>)\n"
     ]
    }
   ],
   "source": [
    "#verifying that the loss is actually lower with new weights and biases\n",
    "preds = model(inputs)\n",
    "loss = mse(preds,targets)\n",
    "print(loss)"
   ]
  },
  {
   "cell_type": "code",
   "execution_count": 72,
   "id": "5208764e",
   "metadata": {},
   "outputs": [
    {
     "data": {
      "text/plain": [
       "tensor([0., 0.])"
      ]
     },
     "execution_count": 72,
     "metadata": {},
     "output_type": "execute_result"
    }
   ],
   "source": [
    "w.grad.zero_()     #esle chai grad lai zero banaidincha. yo garena bhane chai next time gradient calculate garda agadikai value as a base liyera calculate gardincha.\n",
    "b.grad.zero_()     #tei bhayera eslai zero raakheko"
   ]
  },
  {
   "cell_type": "code",
   "execution_count": 73,
   "id": "ea62b3bb",
   "metadata": {},
   "outputs": [
    {
     "name": "stdout",
     "output_type": "stream",
     "text": [
      "tensor([[0., 0., 0.],\n",
      "        [0., 0., 0.]])\n",
      "tensor([0., 0.])\n"
     ]
    }
   ],
   "source": [
    "print(w.grad)\n",
    "print(b.grad)"
   ]
  },
  {
   "cell_type": "code",
   "execution_count": 74,
   "id": "4d3bf33e",
   "metadata": {},
   "outputs": [],
   "source": [
    "#aba we try to decrease the loss function even more"
   ]
  },
  {
   "cell_type": "markdown",
   "id": "a24022ac",
   "metadata": {},
   "source": [
    "# Train the model using gradient descent\n",
    "Steps:\n",
    "1. Generate predictions\n",
    "2. Calculate the loss\n",
    "3. Compute gradients w.r.t the weights and biases\n",
    "4. Adjust the weight by subtracting a small quantity proportional to the gradient\n",
    "5. Reset the gradients to zero."
   ]
  },
  {
   "cell_type": "code",
   "execution_count": 75,
   "id": "589abbc6",
   "metadata": {},
   "outputs": [
    {
     "name": "stdout",
     "output_type": "stream",
     "text": [
      "tensor([[ 73.9694, 164.2290],\n",
      "        [121.7985, 213.2729],\n",
      "        [126.1094, 237.0522],\n",
      "        [ 20.8608, 183.0731],\n",
      "        [162.3048, 192.5788]], grad_fn=<AddBackward0>)\n"
     ]
    }
   ],
   "source": [
    "#Generate predictions\n",
    "\n",
    "preds = model(inputs)\n",
    "print(preds)"
   ]
  },
  {
   "cell_type": "code",
   "execution_count": 76,
   "id": "2cc1c07f",
   "metadata": {},
   "outputs": [
    {
     "name": "stdout",
     "output_type": "stream",
     "text": [
      "tensor(6461.8682, grad_fn=<DivBackward0>)\n"
     ]
    }
   ],
   "source": [
    "#Calculate the loss\n",
    "\n",
    "loss = mse(preds, targets)\n",
    "print(loss)"
   ]
  },
  {
   "cell_type": "code",
   "execution_count": 77,
   "id": "22f81ff7",
   "metadata": {},
   "outputs": [
    {
     "name": "stdout",
     "output_type": "stream",
     "text": [
      "tensor([[1923.7539, 2278.2278, 1581.0623],\n",
      "        [9224.8984, 8696.2129, 5565.5127]])\n",
      "tensor([ 24.8086, 106.0412])\n"
     ]
    }
   ],
   "source": [
    "#Compute gradients\n",
    "\n",
    "loss.backward()\n",
    "print(w.grad)\n",
    "print(b.grad)"
   ]
  },
  {
   "cell_type": "code",
   "execution_count": 78,
   "id": "6b2c7855",
   "metadata": {},
   "outputs": [],
   "source": [
    "#Adjust weights and reset gradients\n",
    "\n",
    "with torch.no_grad():\n",
    "    w -= w.grad * 1e-5\n",
    "    b -= b.grad * 1e-5\n",
    "    w.grad.zero_()\n",
    "    b.grad.zero_()"
   ]
  },
  {
   "cell_type": "code",
   "execution_count": 79,
   "id": "cb2ce8a5",
   "metadata": {},
   "outputs": [
    {
     "name": "stdout",
     "output_type": "stream",
     "text": [
      "tensor([[-0.9811,  0.3441,  2.7194],\n",
      "        [ 1.2378,  0.6106,  0.4422]], requires_grad=True)\n",
      "tensor([ 1.9930, -1.0084], requires_grad=True)\n"
     ]
    }
   ],
   "source": [
    "print(w)\n",
    "print(b)"
   ]
  },
  {
   "cell_type": "code",
   "execution_count": 80,
   "id": "3667525f",
   "metadata": {},
   "outputs": [
    {
     "name": "stdout",
     "output_type": "stream",
     "text": [
      "tensor(4612.0674, grad_fn=<DivBackward0>)\n"
     ]
    }
   ],
   "source": [
    "#Calculate loss\n",
    "\n",
    "preds = model(inputs)\n",
    "loss = mse(preds, targets)\n",
    "print(loss)"
   ]
  },
  {
   "cell_type": "code",
   "execution_count": 81,
   "id": "679d4de5",
   "metadata": {},
   "outputs": [],
   "source": [
    "#We use function to repeat these process for 100 epochs\n",
    "\n",
    "for i in range(100):\n",
    "    preds = model(inputs)\n",
    "    loss = mse(preds, targets)\n",
    "    loss.backward()\n",
    "    with torch.no_grad():\n",
    "        w -= w.grad * 1e-5\n",
    "        b -= b.grad * 1e-5\n",
    "        w.grad.zero_()\n",
    "        b.grad.zero_()"
   ]
  },
  {
   "cell_type": "code",
   "execution_count": 82,
   "id": "db7969cc",
   "metadata": {},
   "outputs": [
    {
     "name": "stdout",
     "output_type": "stream",
     "text": [
      "tensor(358.5272, grad_fn=<DivBackward0>)\n"
     ]
    }
   ],
   "source": [
    "#Calculate loss\n",
    "preds = model(inputs)\n",
    "loss = mse(preds, targets)\n",
    "print(loss)"
   ]
  },
  {
   "cell_type": "code",
   "execution_count": 83,
   "id": "d8968e70",
   "metadata": {},
   "outputs": [
    {
     "name": "stdout",
     "output_type": "stream",
     "text": [
      "tensor(150.4201, grad_fn=<DivBackward0>)\n"
     ]
    }
   ],
   "source": [
    "for i in range(200):\n",
    "    preds = model(inputs)\n",
    "    loss = mse(preds, targets)\n",
    "    loss.backward()\n",
    "    with torch.no_grad():\n",
    "        w -= w.grad * 1e-5\n",
    "        b -= b.grad * 1e-5\n",
    "        w.grad.zero_()\n",
    "        b.grad.zero_()\n",
    "preds = model(inputs)\n",
    "loss = mse(preds, targets)\n",
    "print(loss)"
   ]
  },
  {
   "cell_type": "code",
   "execution_count": 84,
   "id": "7f50c9b9",
   "metadata": {},
   "outputs": [
    {
     "name": "stdout",
     "output_type": "stream",
     "text": [
      "tensor([[ 55.8738,  72.1023],\n",
      "        [ 92.9103,  98.3592],\n",
      "        [ 96.4325, 135.3284],\n",
      "        [ 12.8076,  48.0732],\n",
      "        [125.7616, 108.4636]], grad_fn=<AddBackward0>)\n"
     ]
    }
   ],
   "source": [
    "print(preds)"
   ]
  },
  {
   "cell_type": "code",
   "execution_count": 85,
   "id": "d4a84e5d",
   "metadata": {},
   "outputs": [
    {
     "name": "stdout",
     "output_type": "stream",
     "text": [
      "tensor([[ 56.,  70.],\n",
      "        [ 81., 101.],\n",
      "        [119., 133.],\n",
      "        [ 22.,  37.],\n",
      "        [103., 119.]])\n"
     ]
    }
   ],
   "source": [
    "print(targets)"
   ]
  },
  {
   "cell_type": "code",
   "execution_count": null,
   "id": "a8ae41a1",
   "metadata": {},
   "outputs": [],
   "source": []
  }
 ],
 "metadata": {
  "kernelspec": {
   "display_name": "Python 3 (ipykernel)",
   "language": "python",
   "name": "python3"
  },
  "language_info": {
   "codemirror_mode": {
    "name": "ipython",
    "version": 3
   },
   "file_extension": ".py",
   "mimetype": "text/x-python",
   "name": "python",
   "nbconvert_exporter": "python",
   "pygments_lexer": "ipython3",
   "version": "3.11.7"
  }
 },
 "nbformat": 4,
 "nbformat_minor": 5
}
