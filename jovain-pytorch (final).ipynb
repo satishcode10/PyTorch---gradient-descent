{
 "cells": [
  {
   "cell_type": "code",
   "execution_count": 1,
   "id": "f453762c",
   "metadata": {},
   "outputs": [
    {
     "name": "stdout",
     "output_type": "stream",
     "text": [
      "Requirement already satisfied: numpy in /opt/anaconda3/lib/python3.11/site-packages (1.26.4)\n",
      "Requirement already satisfied: torch in /opt/anaconda3/lib/python3.11/site-packages (2.5.1)\n",
      "Requirement already satisfied: torchvision in /opt/anaconda3/lib/python3.11/site-packages (0.20.1)\n",
      "Requirement already satisfied: torchaudio in /opt/anaconda3/lib/python3.11/site-packages (2.5.1)\n",
      "Requirement already satisfied: filelock in /opt/anaconda3/lib/python3.11/site-packages (from torch) (3.13.1)\n",
      "Requirement already satisfied: typing-extensions>=4.8.0 in /opt/anaconda3/lib/python3.11/site-packages (from torch) (4.9.0)\n",
      "Requirement already satisfied: networkx in /opt/anaconda3/lib/python3.11/site-packages (from torch) (3.1)\n",
      "Requirement already satisfied: jinja2 in /opt/anaconda3/lib/python3.11/site-packages (from torch) (3.1.3)\n",
      "Requirement already satisfied: fsspec in /opt/anaconda3/lib/python3.11/site-packages (from torch) (2023.10.0)\n",
      "Requirement already satisfied: sympy==1.13.1 in /opt/anaconda3/lib/python3.11/site-packages (from torch) (1.13.1)\n",
      "Requirement already satisfied: mpmath<1.4,>=1.1.0 in /opt/anaconda3/lib/python3.11/site-packages (from sympy==1.13.1->torch) (1.3.0)\n",
      "Requirement already satisfied: pillow!=8.3.*,>=5.3.0 in /opt/anaconda3/lib/python3.11/site-packages (from torchvision) (10.2.0)\n",
      "Requirement already satisfied: MarkupSafe>=2.0 in /opt/anaconda3/lib/python3.11/site-packages (from jinja2->torch) (2.1.3)\n"
     ]
    }
   ],
   "source": [
    "!pip install numpy torch torchvision torchaudio"
   ]
  },
  {
   "cell_type": "code",
   "execution_count": 2,
   "id": "7605272e",
   "metadata": {},
   "outputs": [],
   "source": [
    "import torch\n",
    "import numpy as np"
   ]
  },
  {
   "cell_type": "code",
   "execution_count": 3,
   "id": "a34d4c17",
   "metadata": {},
   "outputs": [
    {
     "data": {
      "text/plain": [
       "tensor(4.)"
      ]
     },
     "execution_count": 3,
     "metadata": {},
     "output_type": "execute_result"
    }
   ],
   "source": [
    "t1 = torch.tensor(4.0)\n",
    "t1"
   ]
  },
  {
   "cell_type": "code",
   "execution_count": 4,
   "id": "a50e29db",
   "metadata": {},
   "outputs": [
    {
     "data": {
      "text/plain": [
       "torch.float32"
      ]
     },
     "execution_count": 4,
     "metadata": {},
     "output_type": "execute_result"
    }
   ],
   "source": [
    "t1.dtype"
   ]
  },
  {
   "cell_type": "code",
   "execution_count": 5,
   "id": "83ca0f95",
   "metadata": {},
   "outputs": [
    {
     "data": {
      "text/plain": [
       "0"
      ]
     },
     "execution_count": 5,
     "metadata": {},
     "output_type": "execute_result"
    }
   ],
   "source": [
    "t1.ndim"
   ]
  },
  {
   "cell_type": "code",
   "execution_count": 6,
   "id": "9101592c",
   "metadata": {},
   "outputs": [
    {
     "data": {
      "text/plain": [
       "4.0"
      ]
     },
     "execution_count": 6,
     "metadata": {},
     "output_type": "execute_result"
    }
   ],
   "source": [
    "t1.item()"
   ]
  },
  {
   "cell_type": "code",
   "execution_count": 7,
   "id": "7cbe4495",
   "metadata": {},
   "outputs": [],
   "source": [
    "int_t1 = t1.type(torch.int32)"
   ]
  },
  {
   "cell_type": "code",
   "execution_count": 8,
   "id": "56a44be1",
   "metadata": {},
   "outputs": [
    {
     "data": {
      "text/plain": [
       "tensor(4, dtype=torch.int32)"
      ]
     },
     "execution_count": 8,
     "metadata": {},
     "output_type": "execute_result"
    }
   ],
   "source": [
    "int_t1"
   ]
  },
  {
   "cell_type": "code",
   "execution_count": 9,
   "id": "25396717",
   "metadata": {},
   "outputs": [],
   "source": [
    "float_t1 = int_t1.type(torch.float32)"
   ]
  },
  {
   "cell_type": "code",
   "execution_count": 10,
   "id": "cc667499",
   "metadata": {},
   "outputs": [
    {
     "data": {
      "text/plain": [
       "torch.float32"
      ]
     },
     "execution_count": 10,
     "metadata": {},
     "output_type": "execute_result"
    }
   ],
   "source": [
    "float_t1.dtype"
   ]
  },
  {
   "cell_type": "code",
   "execution_count": 11,
   "id": "18343691",
   "metadata": {},
   "outputs": [],
   "source": [
    "t2 = torch.tensor([1,2,3,4,5])"
   ]
  },
  {
   "cell_type": "code",
   "execution_count": 12,
   "id": "ff943658",
   "metadata": {},
   "outputs": [
    {
     "data": {
      "text/plain": [
       "torch.float32"
      ]
     },
     "execution_count": 12,
     "metadata": {},
     "output_type": "execute_result"
    }
   ],
   "source": [
    "t1.dtype"
   ]
  },
  {
   "cell_type": "code",
   "execution_count": 13,
   "id": "a7507cd6",
   "metadata": {},
   "outputs": [
    {
     "data": {
      "text/plain": [
       "torch.int64"
      ]
     },
     "execution_count": 13,
     "metadata": {},
     "output_type": "execute_result"
    }
   ],
   "source": [
    "t2.dtype"
   ]
  },
  {
   "cell_type": "code",
   "execution_count": 14,
   "id": "69cabcb1",
   "metadata": {},
   "outputs": [
    {
     "data": {
      "text/plain": [
       "tensor([1, 2, 3, 4, 5])"
      ]
     },
     "execution_count": 14,
     "metadata": {},
     "output_type": "execute_result"
    }
   ],
   "source": [
    "t2"
   ]
  },
  {
   "cell_type": "code",
   "execution_count": 15,
   "id": "3580e566",
   "metadata": {},
   "outputs": [],
   "source": [
    "t2_float = t2.type(torch.float32)"
   ]
  },
  {
   "cell_type": "code",
   "execution_count": 16,
   "id": "22a9583d",
   "metadata": {},
   "outputs": [
    {
     "data": {
      "text/plain": [
       "torch.int64"
      ]
     },
     "execution_count": 16,
     "metadata": {},
     "output_type": "execute_result"
    }
   ],
   "source": [
    "t2.dtype"
   ]
  },
  {
   "cell_type": "code",
   "execution_count": 17,
   "id": "a6c7437f",
   "metadata": {},
   "outputs": [
    {
     "data": {
      "text/plain": [
       "torch.float32"
      ]
     },
     "execution_count": 17,
     "metadata": {},
     "output_type": "execute_result"
    }
   ],
   "source": [
    "t2_float.dtype"
   ]
  },
  {
   "cell_type": "code",
   "execution_count": 18,
   "id": "22e64135",
   "metadata": {},
   "outputs": [
    {
     "data": {
      "text/plain": [
       "tensor([1, 2, 3, 4, 5])"
      ]
     },
     "execution_count": 18,
     "metadata": {},
     "output_type": "execute_result"
    }
   ],
   "source": [
    "t2"
   ]
  },
  {
   "cell_type": "code",
   "execution_count": 19,
   "id": "dd4ac91b",
   "metadata": {},
   "outputs": [
    {
     "data": {
      "text/plain": [
       "tensor([1., 2., 3., 4., 5.])"
      ]
     },
     "execution_count": 19,
     "metadata": {},
     "output_type": "execute_result"
    }
   ],
   "source": [
    "t2_float"
   ]
  },
  {
   "cell_type": "code",
   "execution_count": 20,
   "id": "87eb79b8",
   "metadata": {},
   "outputs": [],
   "source": [
    "#3 dimensional tensors"
   ]
  },
  {
   "cell_type": "code",
   "execution_count": 21,
   "id": "7ab088c1",
   "metadata": {},
   "outputs": [],
   "source": [
    "t3 = torch.tensor([[[1,2,3,4],\n",
    "                  [4,5,6,7]],\n",
    "                 [[1,2,3,4],\n",
    "                 [4,5,6,7]]])"
   ]
  },
  {
   "cell_type": "code",
   "execution_count": 22,
   "id": "7807d555",
   "metadata": {},
   "outputs": [
    {
     "data": {
      "text/plain": [
       "tensor([[[1, 2, 3, 4],\n",
       "         [4, 5, 6, 7]],\n",
       "\n",
       "        [[1, 2, 3, 4],\n",
       "         [4, 5, 6, 7]]])"
      ]
     },
     "execution_count": 22,
     "metadata": {},
     "output_type": "execute_result"
    }
   ],
   "source": [
    "t3\n"
   ]
  },
  {
   "cell_type": "code",
   "execution_count": 23,
   "id": "6f07210c",
   "metadata": {},
   "outputs": [
    {
     "data": {
      "text/plain": [
       "torch.int64"
      ]
     },
     "execution_count": 23,
     "metadata": {},
     "output_type": "execute_result"
    }
   ],
   "source": [
    "t3.dtype"
   ]
  },
  {
   "cell_type": "code",
   "execution_count": 24,
   "id": "c9d91503",
   "metadata": {},
   "outputs": [
    {
     "data": {
      "text/plain": [
       "3"
      ]
     },
     "execution_count": 24,
     "metadata": {},
     "output_type": "execute_result"
    }
   ],
   "source": [
    "t3.ndim"
   ]
  },
  {
   "cell_type": "code",
   "execution_count": 25,
   "id": "92b65be3",
   "metadata": {},
   "outputs": [
    {
     "data": {
      "text/plain": [
       "<function Tensor.item>"
      ]
     },
     "execution_count": 25,
     "metadata": {},
     "output_type": "execute_result"
    }
   ],
   "source": [
    "t3.item"
   ]
  },
  {
   "cell_type": "code",
   "execution_count": 26,
   "id": "e1e559e8",
   "metadata": {},
   "outputs": [
    {
     "data": {
      "text/plain": [
       "torch.Size([2, 2, 4])"
      ]
     },
     "execution_count": 26,
     "metadata": {},
     "output_type": "execute_result"
    }
   ],
   "source": [
    "t3.shape"
   ]
  },
  {
   "cell_type": "code",
   "execution_count": 27,
   "id": "3af1c1f3",
   "metadata": {},
   "outputs": [],
   "source": [
    "##Tensor operations and gradients\n",
    "#We can combine tensors with the usual arithmetic operations\n"
   ]
  },
  {
   "cell_type": "raw",
   "id": "caa69a77",
   "metadata": {},
   "source": [
    "#Create tensors"
   ]
  },
  {
   "cell_type": "code",
   "execution_count": 28,
   "id": "ac7bfc71",
   "metadata": {},
   "outputs": [],
   "source": [
    "x = torch.tensor(3.)                      #not interested in future derivative with respect to x, esma chai requires_grad bhanne na rakheko cause we are not interested in the derivate of this value\n",
    "w = torch.tensor(4., requires_grad = True)      #for backward propagation or for computing the derivatives\n",
    "b = torch.tensor(5., requires_grad = True)\n"
   ]
  },
  {
   "cell_type": "code",
   "execution_count": 29,
   "id": "be49d67d",
   "metadata": {},
   "outputs": [
    {
     "data": {
      "text/plain": [
       "(tensor(3.), tensor(4., requires_grad=True), tensor(5., requires_grad=True))"
      ]
     },
     "execution_count": 29,
     "metadata": {},
     "output_type": "execute_result"
    }
   ],
   "source": [
    "x, w, b"
   ]
  },
  {
   "cell_type": "code",
   "execution_count": 30,
   "id": "d7ea84d4",
   "metadata": {},
   "outputs": [],
   "source": [
    "#Lets create a tensor y by combining the tensors we just created"
   ]
  },
  {
   "cell_type": "code",
   "execution_count": 31,
   "id": "ee9a798b",
   "metadata": {},
   "outputs": [],
   "source": [
    "y = w * x + b"
   ]
  },
  {
   "cell_type": "code",
   "execution_count": 32,
   "id": "06e97aa2",
   "metadata": {},
   "outputs": [
    {
     "data": {
      "text/plain": [
       "tensor(17., grad_fn=<AddBackward0>)"
      ]
     },
     "execution_count": 32,
     "metadata": {},
     "output_type": "execute_result"
    }
   ],
   "source": [
    "y"
   ]
  },
  {
   "cell_type": "code",
   "execution_count": 33,
   "id": "1d9dea11",
   "metadata": {},
   "outputs": [],
   "source": [
    "#computing derivates\n",
    "y.backward()"
   ]
  },
  {
   "cell_type": "markdown",
   "id": "7da0bad9",
   "metadata": {},
   "source": [
    "The derivatives of y with respect to the input tensors are stored in the .grad property of the respective tensors"
   ]
  },
  {
   "cell_type": "code",
   "execution_count": 34,
   "id": "bb94d900",
   "metadata": {},
   "outputs": [
    {
     "name": "stdout",
     "output_type": "stream",
     "text": [
      "dy/dx: None\n",
      "dy/dw: tensor(3.)\n",
      "dy/db: tensor(1.)\n"
     ]
    }
   ],
   "source": [
    "#Display gradients\n",
    "print('dy/dx:', x.grad)\n",
    "print('dy/dw:', w.grad)\n",
    "print('dy/db:', b.grad)\n"
   ]
  },
  {
   "cell_type": "markdown",
   "id": "eaf7f0ec",
   "metadata": {},
   "source": [
    "The \"grad\" in w.grad is short for gradient, which is another term for derivative. The term gradient is primarily used while dealing with vectors and matrices"
   ]
  },
  {
   "cell_type": "code",
   "execution_count": 35,
   "id": "e4760570",
   "metadata": {},
   "outputs": [
    {
     "data": {
      "text/plain": [
       "tensor([[10, 10, 10, 10],\n",
       "        [10, 10, 10, 10],\n",
       "        [10, 10, 10, 10]])"
      ]
     },
     "execution_count": 35,
     "metadata": {},
     "output_type": "execute_result"
    }
   ],
   "source": [
    "#Creating a tensor with a fixed value for every element\n",
    "\n",
    "t5 = torch.full((3,4), 10)\n",
    "t5"
   ]
  },
  {
   "cell_type": "code",
   "execution_count": 36,
   "id": "ceeb8b4e",
   "metadata": {},
   "outputs": [],
   "source": [
    "#Concatenating two tensors with compatible shapes\n",
    "t6 = torch.full((3,4), 2)\n",
    "t7 = torch.cat((t5, t6), dim =0)"
   ]
  },
  {
   "cell_type": "code",
   "execution_count": 37,
   "id": "f36a59cd",
   "metadata": {},
   "outputs": [
    {
     "data": {
      "text/plain": [
       "tensor([[10, 10, 10, 10],\n",
       "        [10, 10, 10, 10],\n",
       "        [10, 10, 10, 10],\n",
       "        [ 2,  2,  2,  2],\n",
       "        [ 2,  2,  2,  2],\n",
       "        [ 2,  2,  2,  2]])"
      ]
     },
     "execution_count": 37,
     "metadata": {},
     "output_type": "execute_result"
    }
   ],
   "source": [
    "t7"
   ]
  },
  {
   "cell_type": "code",
   "execution_count": 38,
   "id": "79b0ad09",
   "metadata": {},
   "outputs": [],
   "source": [
    "t7_col = torch.cat((t5, t6), dim =1)"
   ]
  },
  {
   "cell_type": "code",
   "execution_count": 39,
   "id": "56b91c44",
   "metadata": {},
   "outputs": [
    {
     "data": {
      "text/plain": [
       "tensor([[10, 10, 10, 10,  2,  2,  2,  2],\n",
       "        [10, 10, 10, 10,  2,  2,  2,  2],\n",
       "        [10, 10, 10, 10,  2,  2,  2,  2]])"
      ]
     },
     "execution_count": 39,
     "metadata": {},
     "output_type": "execute_result"
    }
   ],
   "source": [
    "t7_col"
   ]
  },
  {
   "cell_type": "code",
   "execution_count": 40,
   "id": "941a81cd",
   "metadata": {},
   "outputs": [
    {
     "data": {
      "text/plain": [
       "tensor([[-0.5440, -0.5440, -0.5440, -0.5440],\n",
       "        [-0.5440, -0.5440, -0.5440, -0.5440],\n",
       "        [-0.5440, -0.5440, -0.5440, -0.5440],\n",
       "        [ 0.9093,  0.9093,  0.9093,  0.9093],\n",
       "        [ 0.9093,  0.9093,  0.9093,  0.9093],\n",
       "        [ 0.9093,  0.9093,  0.9093,  0.9093]])"
      ]
     },
     "execution_count": 40,
     "metadata": {},
     "output_type": "execute_result"
    }
   ],
   "source": [
    "#Computing the sin of each element\n",
    "\n",
    "t8 = torch.sin(t7)\n",
    "t8"
   ]
  },
  {
   "cell_type": "code",
   "execution_count": 41,
   "id": "a5fcb2ff",
   "metadata": {},
   "outputs": [
    {
     "data": {
      "text/plain": [
       "torch.Size([6, 4])"
      ]
     },
     "execution_count": 41,
     "metadata": {},
     "output_type": "execute_result"
    }
   ],
   "source": [
    "#Changing the shape of a tensor\n",
    "\n",
    "t8.shape"
   ]
  },
  {
   "cell_type": "code",
   "execution_count": 42,
   "id": "f59412c4",
   "metadata": {},
   "outputs": [
    {
     "data": {
      "text/plain": [
       "tensor([[[-0.5440, -0.5440, -0.5440, -0.5440],\n",
       "         [-0.5440, -0.5440, -0.5440, -0.5440]],\n",
       "\n",
       "        [[-0.5440, -0.5440, -0.5440, -0.5440],\n",
       "         [ 0.9093,  0.9093,  0.9093,  0.9093]],\n",
       "\n",
       "        [[ 0.9093,  0.9093,  0.9093,  0.9093],\n",
       "         [ 0.9093,  0.9093,  0.9093,  0.9093]]])"
      ]
     },
     "execution_count": 42,
     "metadata": {},
     "output_type": "execute_result"
    }
   ],
   "source": [
    "t9 = t8.reshape(3,2,4)\n",
    "t9"
   ]
  },
  {
   "cell_type": "code",
   "execution_count": 43,
   "id": "f112c62d",
   "metadata": {},
   "outputs": [
    {
     "data": {
      "text/plain": [
       "array([[1, 2],\n",
       "       [3, 4]])"
      ]
     },
     "execution_count": 43,
     "metadata": {},
     "output_type": "execute_result"
    }
   ],
   "source": [
    "#Interoperability with Numpy\n",
    "\n",
    "x = np.array([[1,2],\n",
    "             [3,4]])\n",
    "x"
   ]
  },
  {
   "cell_type": "code",
   "execution_count": 44,
   "id": "14284a56",
   "metadata": {},
   "outputs": [],
   "source": [
    "#Changing into tensor\n",
    "\n",
    "tx = torch.from_numpy(x)"
   ]
  },
  {
   "cell_type": "code",
   "execution_count": 45,
   "id": "c712993e",
   "metadata": {},
   "outputs": [
    {
     "data": {
      "text/plain": [
       "tensor([[1, 2],\n",
       "        [3, 4]])"
      ]
     },
     "execution_count": 45,
     "metadata": {},
     "output_type": "execute_result"
    }
   ],
   "source": [
    "tx"
   ]
  },
  {
   "cell_type": "code",
   "execution_count": 46,
   "id": "8f31dfb8",
   "metadata": {},
   "outputs": [
    {
     "data": {
      "text/plain": [
       "(dtype('int64'), torch.int64)"
      ]
     },
     "execution_count": 46,
     "metadata": {},
     "output_type": "execute_result"
    }
   ],
   "source": [
    "x.dtype, tx.dtype"
   ]
  },
  {
   "cell_type": "code",
   "execution_count": 47,
   "id": "13263803",
   "metadata": {},
   "outputs": [
    {
     "data": {
      "text/plain": [
       "array([[1, 2],\n",
       "       [3, 4]])"
      ]
     },
     "execution_count": 47,
     "metadata": {},
     "output_type": "execute_result"
    }
   ],
   "source": [
    "#Changing back to numpy\n",
    "\n",
    "z = tx.numpy()\n",
    "z"
   ]
  },
  {
   "cell_type": "markdown",
   "id": "9176c4d8",
   "metadata": {},
   "source": [
    "Why use Pytorch when we have preexisting Numpy which already provides data structures and utlities for working with multi-dimensional numeric data?\n",
    "Two main reasons:\n",
    "1 - Autograd: The ability to automatically compute gradients for tensor operations is essential for training deep learning models.\n",
    "2 - GPU support: While working with massive datasets and large models, Pytorch tensor operations can be performed efficintly using GPU that might typically take hours can be completed within minutes using GPU.\n"
   ]
  },
  {
   "cell_type": "markdown",
   "id": "93240900",
   "metadata": {},
   "source": [
    "# Gradient Descent and Linear Regression with PyTorch\n"
   ]
  },
  {
   "cell_type": "code",
   "execution_count": 48,
   "id": "058230d4",
   "metadata": {},
   "outputs": [],
   "source": [
    "#As an example we would look at a chart of crop yields which contains input variables like temp, rainfall, and humidity in correspond to the target variable of apple and oranges produced"
   ]
  },
  {
   "cell_type": "code",
   "execution_count": 49,
   "id": "90dd4fe1",
   "metadata": {},
   "outputs": [],
   "source": [
    "#Input (temp, rainfall, humidity)\n",
    "\n",
    "inputs = np.array([[73,67,43],\n",
    "                  [91,88,64],\n",
    "                  [87,134,58],\n",
    "                  [102, 43, 37],\n",
    "                  [69,96,70]], dtype = 'float32')"
   ]
  },
  {
   "cell_type": "code",
   "execution_count": 50,
   "id": "e1456558",
   "metadata": {},
   "outputs": [],
   "source": [
    "#Targets(apples, oranges)\n",
    "\n",
    "targets = np.array([[56,70],\n",
    "                   [81,101],\n",
    "                   [119,133],\n",
    "                   [22,37],\n",
    "                   [103,119]], dtype = 'float32')"
   ]
  },
  {
   "cell_type": "code",
   "execution_count": 51,
   "id": "18d2b3a8",
   "metadata": {},
   "outputs": [
    {
     "data": {
      "text/plain": [
       "(array([[ 73.,  67.,  43.],\n",
       "        [ 91.,  88.,  64.],\n",
       "        [ 87., 134.,  58.],\n",
       "        [102.,  43.,  37.],\n",
       "        [ 69.,  96.,  70.]], dtype=float32),\n",
       " array([[ 56.,  70.],\n",
       "        [ 81., 101.],\n",
       "        [119., 133.],\n",
       "        [ 22.,  37.],\n",
       "        [103., 119.]], dtype=float32))"
      ]
     },
     "execution_count": 51,
     "metadata": {},
     "output_type": "execute_result"
    }
   ],
   "source": [
    "inputs, targets"
   ]
  },
  {
   "cell_type": "code",
   "execution_count": 52,
   "id": "9a419311",
   "metadata": {},
   "outputs": [
    {
     "name": "stdout",
     "output_type": "stream",
     "text": [
      "tensor([[ 73.,  67.,  43.],\n",
      "        [ 91.,  88.,  64.],\n",
      "        [ 87., 134.,  58.],\n",
      "        [102.,  43.,  37.],\n",
      "        [ 69.,  96.,  70.]])\n",
      "tensor([[ 56.,  70.],\n",
      "        [ 81., 101.],\n",
      "        [119., 133.],\n",
      "        [ 22.,  37.],\n",
      "        [103., 119.]])\n"
     ]
    }
   ],
   "source": [
    "#Converting inputs ans targets into tensors\n",
    "\n",
    "inputs = torch.from_numpy(inputs)\n",
    "targets = torch.from_numpy(targets)\n",
    "print(inputs)\n",
    "print(targets)"
   ]
  },
  {
   "cell_type": "markdown",
   "id": "500dd393",
   "metadata": {},
   "source": [
    "# Linear Regression from the Scratch\n"
   ]
  },
  {
   "cell_type": "markdown",
   "id": "f4dee813",
   "metadata": {},
   "source": [
    "In a linear regressoion model, each target variable is estimated to be a weighted sum of the input variables, offset by some constant, known as a bias:\n",
    "\n",
    "     yield_apple = w11 * temp + w12 * rainfall + w13 * humidity + b1\n",
    "     yield_orange = w21 * temp + w22 * rainfall + w23 * humidity + b2"
   ]
  },
  {
   "cell_type": "markdown",
   "id": "94c4fcdb",
   "metadata": {},
   "source": [
    "The weights and biases(w11, w12, ..., b1 and b2) can also be represented as matrices, initialized as random variables.\n",
    "The first row of w and the first element of b are used to predict the first target variables, i.e., yield of apples, ans similarly, the second for oranges.\n"
   ]
  },
  {
   "cell_type": "code",
   "execution_count": 53,
   "id": "941e47db",
   "metadata": {},
   "outputs": [
    {
     "name": "stdout",
     "output_type": "stream",
     "text": [
      "tensor([[-0.9381,  0.3945,  2.7540],\n",
      "        [ 1.4411,  0.8046,  0.5659]], requires_grad=True)\n",
      "tensor([ 1.9935, -1.0061], requires_grad=True)\n"
     ]
    }
   ],
   "source": [
    "#Weights and biases\n",
    "\n",
    "w = torch.randn(2,3, requires_grad = True)    #torch.randn creates a tensor with the given shape, with elements picked randomly from a normal distribution with mean 0 and standard deviation 1.\n",
    "b = torch.randn(2, requires_grad = True)\n",
    "print(w)\n",
    "print(b)"
   ]
  },
  {
   "cell_type": "code",
   "execution_count": 54,
   "id": "e2b446c8",
   "metadata": {},
   "outputs": [
    {
     "data": {
      "text/plain": [
       "tensor([[ 73.,  67.,  43.],\n",
       "        [ 91.,  88.,  64.],\n",
       "        [ 87., 134.,  58.],\n",
       "        [102.,  43.,  37.],\n",
       "        [ 69.,  96.,  70.]])"
      ]
     },
     "execution_count": 54,
     "metadata": {},
     "output_type": "execute_result"
    }
   ],
   "source": [
    "inputs"
   ]
  },
  {
   "cell_type": "code",
   "execution_count": 55,
   "id": "2c5d15d5",
   "metadata": {},
   "outputs": [
    {
     "data": {
      "text/plain": [
       "tensor([[ 78.3711, 182.4325],\n",
       "        [127.6053, 237.1517],\n",
       "        [132.9815, 265.0025],\n",
       "        [ 25.1749, 201.5186],\n",
       "        [167.9227, 215.2800]], grad_fn=<AddBackward0>)"
      ]
     },
     "execution_count": 55,
     "metadata": {},
     "output_type": "execute_result"
    }
   ],
   "source": [
    "inputs @ w.t() + b"
   ]
  },
  {
   "cell_type": "code",
   "execution_count": 56,
   "id": "763182db",
   "metadata": {},
   "outputs": [],
   "source": [
    "#OR using the function\n",
    "\n",
    "def model(x):\n",
    "    return x @ w.t() + b"
   ]
  },
  {
   "cell_type": "code",
   "execution_count": 57,
   "id": "e829fcdb",
   "metadata": {},
   "outputs": [
    {
     "name": "stdout",
     "output_type": "stream",
     "text": [
      "tensor([[ 78.3711, 182.4325],\n",
      "        [127.6053, 237.1517],\n",
      "        [132.9815, 265.0025],\n",
      "        [ 25.1749, 201.5186],\n",
      "        [167.9227, 215.2800]], grad_fn=<AddBackward0>)\n"
     ]
    }
   ],
   "source": [
    "#generate predictions\n",
    "\n",
    "preds = model(inputs)\n",
    "print(preds)"
   ]
  },
  {
   "cell_type": "code",
   "execution_count": 58,
   "id": "7863b9d5",
   "metadata": {},
   "outputs": [],
   "source": [
    "#comparing the predictions of our models with the actual targets"
   ]
  },
  {
   "cell_type": "code",
   "execution_count": 59,
   "id": "b8a44d1a",
   "metadata": {},
   "outputs": [
    {
     "name": "stdout",
     "output_type": "stream",
     "text": [
      "tensor([[ 56.,  70.],\n",
      "        [ 81., 101.],\n",
      "        [119., 133.],\n",
      "        [ 22.,  37.],\n",
      "        [103., 119.]])\n"
     ]
    }
   ],
   "source": [
    "print(targets)"
   ]
  },
  {
   "cell_type": "code",
   "execution_count": 60,
   "id": "96175cea",
   "metadata": {},
   "outputs": [],
   "source": [
    "#we can see there is a big difference between our model's predictions and the actual targets because we've initialized our model with random weights and biases."
   ]
  },
  {
   "cell_type": "markdown",
   "id": "544b5425",
   "metadata": {},
   "source": [
    "# Loss Function"
   ]
  },
  {
   "cell_type": "markdown",
   "id": "e5cf376e",
   "metadata": {},
   "source": [
    "Before we improve our model, we need a way to evaluate how well our model is performing. We can compare the model's\n",
    "predictions with the actual targets using the following method:\n",
    "    1- Calculate the diff between two matrices (preds and targets)\n",
    "    2- Square all elements of the diff matrix to remove negative values\n",
    "    3- Calculate the average of the elements in the resulting matrix\n",
    "The result is a single number, known as the mean squared error(MSE)"
   ]
  },
  {
   "cell_type": "code",
   "execution_count": 61,
   "id": "1cb10deb",
   "metadata": {},
   "outputs": [
    {
     "data": {
      "text/plain": [
       "tensor([[ 22.3711, 112.4325],\n",
       "        [ 46.6053, 136.1517],\n",
       "        [ 13.9815, 132.0025],\n",
       "        [  3.1749, 164.5186],\n",
       "        [ 64.9227,  96.2800]], grad_fn=<SubBackward0>)"
      ]
     },
     "execution_count": 61,
     "metadata": {},
     "output_type": "execute_result"
    }
   ],
   "source": [
    "#MSE loss\n",
    "\n",
    "preds - targets"
   ]
  },
  {
   "cell_type": "code",
   "execution_count": 62,
   "id": "34667556",
   "metadata": {},
   "outputs": [
    {
     "data": {
      "text/plain": [
       "tensor([[5.0046e+02, 1.2641e+04],\n",
       "        [2.1721e+03, 1.8537e+04],\n",
       "        [1.9548e+02, 1.7425e+04],\n",
       "        [1.0080e+01, 2.7066e+04],\n",
       "        [4.2150e+03, 9.2698e+03]], grad_fn=<MulBackward0>)"
      ]
     },
     "execution_count": 62,
     "metadata": {},
     "output_type": "execute_result"
    }
   ],
   "source": [
    "diff = preds - targets\n",
    "diff * diff"
   ]
  },
  {
   "cell_type": "code",
   "execution_count": 63,
   "id": "d2f8589b",
   "metadata": {},
   "outputs": [
    {
     "data": {
      "text/plain": [
       "tensor(9203.2256, grad_fn=<DivBackward0>)"
      ]
     },
     "execution_count": 63,
     "metadata": {},
     "output_type": "execute_result"
    }
   ],
   "source": [
    "torch.sum(diff * diff) / diff.numel()   #calculating the average "
   ]
  },
  {
   "cell_type": "code",
   "execution_count": 64,
   "id": "31ac1d02",
   "metadata": {},
   "outputs": [],
   "source": [
    "#Using a function\n",
    "\n",
    "def mse(t1, t2):\n",
    "    diff = t1 - t2\n",
    "    return torch.sum(diff * diff) / diff.numel()"
   ]
  },
  {
   "cell_type": "code",
   "execution_count": 65,
   "id": "01e82f2d",
   "metadata": {},
   "outputs": [
    {
     "name": "stdout",
     "output_type": "stream",
     "text": [
      "tensor(9203.2256, grad_fn=<DivBackward0>)\n"
     ]
    }
   ],
   "source": [
    "#Computing the loss\n",
    "\n",
    "loss = mse(preds, targets)\n",
    "print(loss)"
   ]
  },
  {
   "cell_type": "markdown",
   "id": "2126778b",
   "metadata": {},
   "source": [
    "Looking at the resuly we can say that, On average, each element in the prediction differs from the actual target by the square root of the loss."
   ]
  },
  {
   "cell_type": "markdown",
   "id": "76ec4dab",
   "metadata": {},
   "source": [
    "# Computing Gradients"
   ]
  },
  {
   "cell_type": "code",
   "execution_count": 66,
   "id": "adbe39ba",
   "metadata": {},
   "outputs": [],
   "source": [
    "loss.backward()"
   ]
  },
  {
   "cell_type": "code",
   "execution_count": 67,
   "id": "315851ce",
   "metadata": {},
   "outputs": [
    {
     "name": "stdout",
     "output_type": "stream",
     "text": [
      "tensor([[-0.9381,  0.3945,  2.7540],\n",
      "        [ 1.4411,  0.8046,  0.5659]], requires_grad=True)\n",
      "tensor([[ 2378.8135,  2768.5505,  1883.5369],\n",
      "        [11101.1621, 10703.9688,  6806.2480]])\n"
     ]
    }
   ],
   "source": [
    "#Gradients for weights\n",
    "print(w)\n",
    "print(w.grad)"
   ]
  },
  {
   "cell_type": "code",
   "execution_count": 68,
   "id": "f1365d27",
   "metadata": {},
   "outputs": [
    {
     "name": "stdout",
     "output_type": "stream",
     "text": [
      "tensor([ 1.9935, -1.0061], requires_grad=True)\n",
      "tensor([ 30.2111, 128.2771])\n"
     ]
    }
   ],
   "source": [
    "print(b)\n",
    "print(b.grad)"
   ]
  },
  {
   "cell_type": "markdown",
   "id": "c1cf5f79",
   "metadata": {},
   "source": [
    "If the gradient is positive we can figure out from the graph that, we see that:\n",
    "    - increasing the weight element's value slightly will increase the loss.\n",
    "    - decreasing the weight element's value slightly will decrease the loss.\n",
    "\n",
    "If the gradient is negative we can figure out from the graph that, we see that:\n",
    "    - increasing the weight element's value slightly will decrease the loss.\n",
    "    - decreasing the weight element's value slightly will increase the loss."
   ]
  },
  {
   "cell_type": "code",
   "execution_count": 69,
   "id": "33b93a8a",
   "metadata": {},
   "outputs": [],
   "source": [
    "with torch.no_grad():\n",
    "    w -= w.grad * 1e-5\n",
    "    b -= b.grad * 1e-5"
   ]
  },
  {
   "cell_type": "code",
   "execution_count": 70,
   "id": "fa043a49",
   "metadata": {},
   "outputs": [
    {
     "data": {
      "text/plain": [
       "(tensor([[-0.9618,  0.3668,  2.7352],\n",
       "         [ 1.3301,  0.6975,  0.4978]], requires_grad=True),\n",
       " tensor([ 1.9932, -1.0074], requires_grad=True))"
      ]
     },
     "execution_count": 70,
     "metadata": {},
     "output_type": "execute_result"
    }
   ],
   "source": [
    "w,b"
   ]
  },
  {
   "cell_type": "code",
   "execution_count": 71,
   "id": "1bd369ee",
   "metadata": {},
   "outputs": [
    {
     "name": "stdout",
     "output_type": "stream",
     "text": [
      "tensor(6461.8682, grad_fn=<DivBackward0>)\n"
     ]
    }
   ],
   "source": [
    "#verifying that the loss is actually lower with new weights and biases\n",
    "preds = model(inputs)\n",
    "loss = mse(preds,targets)\n",
    "print(loss)"
   ]
  },
  {
   "cell_type": "code",
   "execution_count": 72,
   "id": "367ef56c",
   "metadata": {},
   "outputs": [
    {
     "data": {
      "text/plain": [
       "tensor([0., 0.])"
      ]
     },
     "execution_count": 72,
     "metadata": {},
     "output_type": "execute_result"
    }
   ],
   "source": [
    "w.grad.zero_()     #esle chai grad lai zero banaidincha. yo garena bhane chai next time gradient calculate garda agadikai value as a base liyera calculate gardincha.\n",
    "b.grad.zero_()     #tei bhayera eslai zero raakheko"
   ]
  },
  {
   "cell_type": "code",
   "execution_count": 73,
   "id": "ff50e42f",
   "metadata": {},
   "outputs": [
    {
     "name": "stdout",
     "output_type": "stream",
     "text": [
      "tensor([[0., 0., 0.],\n",
      "        [0., 0., 0.]])\n",
      "tensor([0., 0.])\n"
     ]
    }
   ],
   "source": [
    "print(w.grad)\n",
    "print(b.grad)"
   ]
  },
  {
   "cell_type": "code",
   "execution_count": 74,
   "id": "0e72b211",
   "metadata": {},
   "outputs": [],
   "source": [
    "#aba we try to decrease the loss function even more"
   ]
  },
  {
   "cell_type": "markdown",
   "id": "3db3baef",
   "metadata": {},
   "source": [
    "# Train the model using gradient descent\n",
    "Steps:\n",
    "1. Generate predictions\n",
    "2. Calculate the loss\n",
    "3. Compute gradients w.r.t the weights and biases\n",
    "4. Adjust the weight by subtracting a small quantity proportional to the gradient\n",
    "5. Reset the gradients to zero."
   ]
  },
  {
   "cell_type": "code",
   "execution_count": 75,
   "id": "d1cc5ffa",
   "metadata": {},
   "outputs": [
    {
     "name": "stdout",
     "output_type": "stream",
     "text": [
      "tensor([[ 73.9694, 164.2290],\n",
      "        [121.7985, 213.2729],\n",
      "        [126.1094, 237.0522],\n",
      "        [ 20.8608, 183.0731],\n",
      "        [162.3048, 192.5788]], grad_fn=<AddBackward0>)\n"
     ]
    }
   ],
   "source": [
    "#Generate predictions\n",
    "\n",
    "preds = model(inputs)\n",
    "print(preds)"
   ]
  },
  {
   "cell_type": "code",
   "execution_count": 76,
   "id": "a4a0b338",
   "metadata": {},
   "outputs": [
    {
     "name": "stdout",
     "output_type": "stream",
     "text": [
      "tensor(6461.8682, grad_fn=<DivBackward0>)\n"
     ]
    }
   ],
   "source": [
    "#Calculate the loss\n",
    "\n",
    "loss = mse(preds, targets)\n",
    "print(loss)"
   ]
  },
  {
   "cell_type": "code",
   "execution_count": 77,
   "id": "fd9e34f2",
   "metadata": {},
   "outputs": [
    {
     "name": "stdout",
     "output_type": "stream",
     "text": [
      "tensor([[1923.7539, 2278.2278, 1581.0623],\n",
      "        [9224.8984, 8696.2129, 5565.5127]])\n",
      "tensor([ 24.8086, 106.0412])\n"
     ]
    }
   ],
   "source": [
    "#Compute gradients\n",
    "\n",
    "loss.backward()\n",
    "print(w.grad)\n",
    "print(b.grad)"
   ]
  },
  {
   "cell_type": "code",
   "execution_count": 78,
   "id": "3d149e42",
   "metadata": {},
   "outputs": [],
   "source": [
    "#Adjust weights and reset gradients\n",
    "\n",
    "with torch.no_grad():\n",
    "    w -= w.grad * 1e-5\n",
    "    b -= b.grad * 1e-5\n",
    "    w.grad.zero_()\n",
    "    b.grad.zero_()"
   ]
  },
  {
   "cell_type": "code",
   "execution_count": 79,
   "id": "3e01132b",
   "metadata": {},
   "outputs": [
    {
     "name": "stdout",
     "output_type": "stream",
     "text": [
      "tensor([[-0.9811,  0.3441,  2.7194],\n",
      "        [ 1.2378,  0.6106,  0.4422]], requires_grad=True)\n",
      "tensor([ 1.9930, -1.0084], requires_grad=True)\n"
     ]
    }
   ],
   "source": [
    "print(w)\n",
    "print(b)"
   ]
  },
  {
   "cell_type": "code",
   "execution_count": 80,
   "id": "529ab169",
   "metadata": {},
   "outputs": [
    {
     "name": "stdout",
     "output_type": "stream",
     "text": [
      "tensor(4612.0674, grad_fn=<DivBackward0>)\n"
     ]
    }
   ],
   "source": [
    "#Calculate loss\n",
    "\n",
    "preds = model(inputs)\n",
    "loss = mse(preds, targets)\n",
    "print(loss)"
   ]
  },
  {
   "cell_type": "code",
   "execution_count": 81,
   "id": "be3b4b06",
   "metadata": {},
   "outputs": [],
   "source": [
    "#We use function to repeat these process for 100 epochs\n",
    "\n",
    "for i in range(100):\n",
    "    preds = model(inputs)\n",
    "    loss = mse(preds, targets)\n",
    "    loss.backward()\n",
    "    with torch.no_grad():\n",
    "        w -= w.grad * 1e-5\n",
    "        b -= b.grad * 1e-5\n",
    "        w.grad.zero_()\n",
    "        b.grad.zero_()"
   ]
  },
  {
   "cell_type": "code",
   "execution_count": 82,
   "id": "4a44904e",
   "metadata": {},
   "outputs": [
    {
     "name": "stdout",
     "output_type": "stream",
     "text": [
      "tensor(358.5272, grad_fn=<DivBackward0>)\n"
     ]
    }
   ],
   "source": [
    "#Calculate loss\n",
    "preds = model(inputs)\n",
    "loss = mse(preds, targets)\n",
    "print(loss)"
   ]
  },
  {
   "cell_type": "code",
   "execution_count": 83,
   "id": "13d0a16b",
   "metadata": {},
   "outputs": [
    {
     "name": "stdout",
     "output_type": "stream",
     "text": [
      "tensor(150.4201, grad_fn=<DivBackward0>)\n"
     ]
    }
   ],
   "source": [
    "for i in range(200):\n",
    "    preds = model(inputs)\n",
    "    loss = mse(preds, targets)\n",
    "    loss.backward()\n",
    "    with torch.no_grad():\n",
    "        w -= w.grad * 1e-5\n",
    "        b -= b.grad * 1e-5\n",
    "        w.grad.zero_()\n",
    "        b.grad.zero_()\n",
    "preds = model(inputs)\n",
    "loss = mse(preds, targets)\n",
    "print(loss)"
   ]
  },
  {
   "cell_type": "code",
   "execution_count": 84,
   "id": "595939c1",
   "metadata": {},
   "outputs": [
    {
     "name": "stdout",
     "output_type": "stream",
     "text": [
      "tensor([[ 55.8738,  72.1023],\n",
      "        [ 92.9103,  98.3592],\n",
      "        [ 96.4325, 135.3284],\n",
      "        [ 12.8076,  48.0732],\n",
      "        [125.7616, 108.4636]], grad_fn=<AddBackward0>)\n"
     ]
    }
   ],
   "source": [
    "print(preds)"
   ]
  },
  {
   "cell_type": "code",
   "execution_count": 85,
   "id": "9c1e886b",
   "metadata": {},
   "outputs": [
    {
     "name": "stdout",
     "output_type": "stream",
     "text": [
      "tensor([[ 56.,  70.],\n",
      "        [ 81., 101.],\n",
      "        [119., 133.],\n",
      "        [ 22.,  37.],\n",
      "        [103., 119.]])\n"
     ]
    }
   ],
   "source": [
    "print(targets)"
   ]
  },
  {
   "cell_type": "markdown",
   "id": "bc126739",
   "metadata": {},
   "source": [
    "# Linear Regression using PyTorch built-ins"
   ]
  },
  {
   "cell_type": "markdown",
   "id": "f97e2633",
   "metadata": {},
   "source": [
    "Pytorch provides several built-in functions and classes to make it easy to create and train models with just a few lines of code"
   ]
  },
  {
   "cell_type": "code",
   "execution_count": 86,
   "id": "aafad4f0",
   "metadata": {},
   "outputs": [],
   "source": [
    "import torch.nn as nn    #torch.nn contains utility classes for building neural networks"
   ]
  },
  {
   "cell_type": "code",
   "execution_count": 87,
   "id": "1653e0cb",
   "metadata": {},
   "outputs": [],
   "source": [
    "#Input (temp, rainfall, himidity)\n",
    "\n",
    "input = np.array([[73,67,43],\n",
    "                 [91,88,64],\n",
    "                 [87,134, 58],\n",
    "                 [102,43,37],\n",
    "                 [69,96,70],\n",
    "                 [74,66,43],\n",
    "                 [91,87,65],\n",
    "                 [88,134,59],\n",
    "                 [101,44,37],\n",
    "                 [68,86,71],\n",
    "                 [73,66,44],\n",
    "                 [92,87,64],\n",
    "                 [87,135, 57],\n",
    "                 [103, 43, 36],\n",
    "                 [68,97,70]], dtype = 'float32')"
   ]
  },
  {
   "cell_type": "code",
   "execution_count": 89,
   "id": "3440ee59",
   "metadata": {},
   "outputs": [],
   "source": [
    "#Targets(apples, oranges)\n",
    "\n",
    "target = np.array([[56,70],\n",
    "                  [81,101],\n",
    "                  [119,133],\n",
    "                  [22,37],\n",
    "                  [103, 119],\n",
    "                  [57,69],\n",
    "                  [80,102],\n",
    "                  [118,132],\n",
    "                  [21,38],\n",
    "                  [102,118],\n",
    "                  [57,69],\n",
    "                  [82,100],\n",
    "                  [118,134],\n",
    "                  [20,38],\n",
    "                  [102,120]], dtype = 'float32')"
   ]
  },
  {
   "cell_type": "code",
   "execution_count": 90,
   "id": "4c4303a0",
   "metadata": {},
   "outputs": [
    {
     "name": "stdout",
     "output_type": "stream",
     "text": [
      "tensor([[ 73.,  67.,  43.],\n",
      "        [ 91.,  88.,  64.],\n",
      "        [ 87., 134.,  58.],\n",
      "        [102.,  43.,  37.],\n",
      "        [ 69.,  96.,  70.],\n",
      "        [ 74.,  66.,  43.],\n",
      "        [ 91.,  87.,  65.],\n",
      "        [ 88., 134.,  59.],\n",
      "        [101.,  44.,  37.],\n",
      "        [ 68.,  86.,  71.],\n",
      "        [ 73.,  66.,  44.],\n",
      "        [ 92.,  87.,  64.],\n",
      "        [ 87., 135.,  57.],\n",
      "        [103.,  43.,  36.],\n",
      "        [ 68.,  97.,  70.]])\n",
      "tensor([[ 56.,  70.],\n",
      "        [ 81., 101.],\n",
      "        [119., 133.],\n",
      "        [ 22.,  37.],\n",
      "        [103., 119.],\n",
      "        [ 57.,  69.],\n",
      "        [ 80., 102.],\n",
      "        [118., 132.],\n",
      "        [ 21.,  38.],\n",
      "        [102., 118.],\n",
      "        [ 57.,  69.],\n",
      "        [ 82., 100.],\n",
      "        [118., 134.],\n",
      "        [ 20.,  38.],\n",
      "        [102., 120.]])\n"
     ]
    }
   ],
   "source": [
    "input = torch.from_numpy(input)\n",
    "target = torch.from_numpy(target)\n",
    "print(input)\n",
    "print(target)"
   ]
  },
  {
   "cell_type": "markdown",
   "id": "cc4c8b1e",
   "metadata": {},
   "source": [
    "# Dataset and DataLoader"
   ]
  },
  {
   "cell_type": "markdown",
   "id": "69802461",
   "metadata": {},
   "source": [
    "We'll create a TensorDataset, which allows access to rows from input and target as tuples, and provides standards APIs for working with many different types of datasets in PyTorch"
   ]
  },
  {
   "cell_type": "markdown",
   "id": "ea3e4f62",
   "metadata": {},
   "source": [
    "# Why use Dataset and DataLoader?"
   ]
  },
  {
   "cell_type": "markdown",
   "id": "b57d0591",
   "metadata": {},
   "source": [
    "The Dataset and DataLoader in PyTorch enable efficient handling of large datasets by loading data in smaller batches, applying transformations, and supporting parallel data loading to speed up training. They simplify data pipeline management by automatically batching, shuffling, and integrating seamlessly with PyTorch models and training loops. This makes them essential for scalable, flexible, and optimized training workflows."
   ]
  },
  {
   "cell_type": "code",
   "execution_count": 91,
   "id": "58a1dbdc",
   "metadata": {},
   "outputs": [],
   "source": [
    "from torch.utils.data import TensorDataset"
   ]
  },
  {
   "cell_type": "code",
   "execution_count": 94,
   "id": "ec5e86ee",
   "metadata": {},
   "outputs": [
    {
     "data": {
      "text/plain": [
       "(tensor([[ 73.,  67.,  43.],\n",
       "         [ 91.,  88.,  64.],\n",
       "         [ 87., 134.,  58.]]),\n",
       " tensor([[ 56.,  70.],\n",
       "         [ 81., 101.],\n",
       "         [119., 133.]]))"
      ]
     },
     "execution_count": 94,
     "metadata": {},
     "output_type": "execute_result"
    }
   ],
   "source": [
    "#Define dataset\n",
    "\n",
    "train_ds = TensorDataset(input, target)\n",
    "train_ds[0:3]      #It takes the batch of first three rows of input and target"
   ]
  },
  {
   "cell_type": "markdown",
   "id": "45457ffc",
   "metadata": {},
   "source": [
    "We'll also create DataLoader, which can split the data into batches of a predefined size while training. It also provides other utilities like shuffling and random sampling of the data"
   ]
  },
  {
   "cell_type": "code",
   "execution_count": 96,
   "id": "43e421a0",
   "metadata": {},
   "outputs": [],
   "source": [
    "from torch.utils.data import DataLoader"
   ]
  },
  {
   "cell_type": "code",
   "execution_count": 97,
   "id": "f02268c6",
   "metadata": {},
   "outputs": [],
   "source": [
    "#Define Data loader\n",
    "\n",
    "batch_size = 5\n",
    "train_dl = DataLoader(train_ds, batch_size, shuffle = True)       \n",
    "\n",
    "#If shuffle is True, it shuffles the training data before creating batches. \n",
    "\n",
    "#Shuffling helps randomize the input to the optimization algorithm, leading to a faster reduction in the loss."
   ]
  },
  {
   "cell_type": "code",
   "execution_count": 98,
   "id": "7bc14177",
   "metadata": {},
   "outputs": [
    {
     "name": "stdout",
     "output_type": "stream",
     "text": [
      "tensor([[ 91.,  88.,  64.],\n",
      "        [ 69.,  96.,  70.],\n",
      "        [101.,  44.,  37.],\n",
      "        [ 74.,  66.,  43.],\n",
      "        [ 88., 134.,  59.]])\n",
      "tensor([[ 81., 101.],\n",
      "        [103., 119.],\n",
      "        [ 21.,  38.],\n",
      "        [ 57.,  69.],\n",
      "        [118., 132.]])\n"
     ]
    }
   ],
   "source": [
    "for xb, yb in train_dl:\n",
    "    print(xb)\n",
    "    print(yb)\n",
    "    break"
   ]
  },
  {
   "cell_type": "code",
   "execution_count": 99,
   "id": "9c7fa3b7",
   "metadata": {},
   "outputs": [
    {
     "data": {
      "text/plain": [
       "tensor([[ 73.,  67.,  43.],\n",
       "        [ 91.,  88.,  64.],\n",
       "        [ 87., 134.,  58.],\n",
       "        [102.,  43.,  37.],\n",
       "        [ 69.,  96.,  70.],\n",
       "        [ 74.,  66.,  43.],\n",
       "        [ 91.,  87.,  65.],\n",
       "        [ 88., 134.,  59.],\n",
       "        [101.,  44.,  37.],\n",
       "        [ 68.,  86.,  71.],\n",
       "        [ 73.,  66.,  44.],\n",
       "        [ 92.,  87.,  64.],\n",
       "        [ 87., 135.,  57.],\n",
       "        [103.,  43.,  36.],\n",
       "        [ 68.,  97.,  70.]])"
      ]
     },
     "execution_count": 99,
     "metadata": {},
     "output_type": "execute_result"
    }
   ],
   "source": [
    "input"
   ]
  },
  {
   "cell_type": "markdown",
   "id": "0c298720",
   "metadata": {},
   "source": [
    "we see that the training batch is different from the input batch because of the shuffling"
   ]
  },
  {
   "cell_type": "markdown",
   "id": "d8846300",
   "metadata": {},
   "source": [
    "# nn.Linear"
   ]
  },
  {
   "cell_type": "markdown",
   "id": "40d2e6be",
   "metadata": {},
   "source": [
    "Instead of initializing the weights and biases manually, we can define the model using nn.Linear class from PyTorch for automatation"
   ]
  },
  {
   "cell_type": "code",
   "execution_count": 103,
   "id": "1b834380",
   "metadata": {},
   "outputs": [
    {
     "name": "stdout",
     "output_type": "stream",
     "text": [
      "Parameter containing:\n",
      "tensor([[ 0.3443,  0.5413,  0.1508],\n",
      "        [ 0.3663, -0.4726, -0.1734]], requires_grad=True)\n",
      "Parameter containing:\n",
      "tensor([ 0.5019, -0.1575], requires_grad=True)\n"
     ]
    }
   ],
   "source": [
    "#Define model\n",
    "\n",
    "model = nn.Linear(3,2)\n",
    "#3 here is the number of inputs(temp,rainfall, humidity) and 2 is the number of outputs (apple yields and orange yields)\n",
    "\n",
    "print(model.weight)    #automatically creates weight and bias matrix when we create a Linear layer (weights are initialised using Kaiming Uniform Initialization for faster network coverage) the biases are initialized to zeros )\n",
    "print(model.bias)"
   ]
  },
  {
   "cell_type": "markdown",
   "id": "78ffa53a",
   "metadata": {},
   "source": [
    "PyTorch models also have a helpful .parameters method, which returns a list containing all the weights and bias matrices present in the model. For our linear regression model, we have one weight matrix and one bias matrix."
   ]
  },
  {
   "cell_type": "code",
   "execution_count": 104,
   "id": "a01a12d0",
   "metadata": {},
   "outputs": [
    {
     "data": {
      "text/plain": [
       "[Parameter containing:\n",
       " tensor([[ 0.3443,  0.5413,  0.1508],\n",
       "         [ 0.3663, -0.4726, -0.1734]], requires_grad=True),\n",
       " Parameter containing:\n",
       " tensor([ 0.5019, -0.1575], requires_grad=True)]"
      ]
     },
     "execution_count": 104,
     "metadata": {},
     "output_type": "execute_result"
    }
   ],
   "source": [
    "#Parameters\n",
    "\n",
    "list(model.parameters())"
   ]
  },
  {
   "cell_type": "markdown",
   "id": "b75e8bae",
   "metadata": {},
   "source": [
    "We can use the model to generate predictions in the same way as before"
   ]
  },
  {
   "cell_type": "code",
   "execution_count": 105,
   "id": "181f96b9",
   "metadata": {},
   "outputs": [
    {
     "data": {
      "text/plain": [
       "tensor([[ 68.3829, -12.5368],\n",
       "        [ 89.1132, -19.5092],\n",
       "        [111.7298, -41.6745],\n",
       "        [ 64.4714,  10.4699],\n",
       "        [ 86.7742, -32.3898],\n",
       "        [ 68.1859, -11.6979],\n",
       "        [ 88.7227, -19.2100],\n",
       "        [112.2249, -41.4816],\n",
       "        [ 64.6684,   9.6310],\n",
       "        [ 81.1680, -28.2033],\n",
       "        [ 67.9924, -12.2376],\n",
       "        [ 88.9162, -18.6702],\n",
       "        [112.1203, -41.9738],\n",
       "        [ 64.6648,  11.0097],\n",
       "        [ 86.9712, -33.2287]], grad_fn=<AddmmBackward0>)"
      ]
     },
     "execution_count": 105,
     "metadata": {},
     "output_type": "execute_result"
    }
   ],
   "source": [
    "#Generate predictions\n",
    "\n",
    "preds = model(input)\n",
    "preds"
   ]
  },
  {
   "cell_type": "markdown",
   "id": "ed0635db",
   "metadata": {},
   "source": [
    "# Loss Function"
   ]
  },
  {
   "cell_type": "markdown",
   "id": "ca8f66e8",
   "metadata": {},
   "source": [
    "Instead of defining a loss function manually, we can use the built-in loss function mse_loss"
   ]
  },
  {
   "cell_type": "code",
   "execution_count": 107,
   "id": "0cc4bcc2",
   "metadata": {},
   "outputs": [],
   "source": [
    "#Import nn.functional\n",
    "\n",
    "import torch.nn.functional as F      #The nn.functional package contains many useful loss functions and several other utilities"
   ]
  },
  {
   "cell_type": "code",
   "execution_count": 108,
   "id": "b1943025",
   "metadata": {},
   "outputs": [],
   "source": [
    "#Define loss function\n",
    "\n",
    "loss_fn = F.mse_loss"
   ]
  },
  {
   "cell_type": "code",
   "execution_count": 110,
   "id": "b04a8e0b",
   "metadata": {},
   "outputs": [
    {
     "name": "stdout",
     "output_type": "stream",
     "text": [
      "tensor(7738.1294, grad_fn=<MseLossBackward0>)\n"
     ]
    }
   ],
   "source": [
    "loss= loss_fn(model(input), target)\n",
    "print(loss)"
   ]
  },
  {
   "cell_type": "markdown",
   "id": "3ff3ecd2",
   "metadata": {},
   "source": [
    "# Optimizer"
   ]
  },
  {
   "cell_type": "markdown",
   "id": "88f5f4b5",
   "metadata": {},
   "source": [
    "Instead of manually manipulating the model's weights and biases using gradients, we can use the optimizer optim.SGD. SGD is short for 'Stochastic gradient descent'. The term stochastic indicates that samples are selected in random batches instead of as a single group."
   ]
  },
  {
   "cell_type": "code",
   "execution_count": 111,
   "id": "0a37285c",
   "metadata": {},
   "outputs": [],
   "source": [
    "#Define optimizer\n",
    "\n",
    "opt = torch.optim.SGD(model.parameters(), lr = 1e-5)"
   ]
  },
  {
   "cell_type": "markdown",
   "id": "21b51f14",
   "metadata": {},
   "source": [
    "# Training the model"
   ]
  },
  {
   "cell_type": "code",
   "execution_count": 112,
   "id": "9eaa928b",
   "metadata": {},
   "outputs": [],
   "source": [
    "#Utility function to train the model\n",
    "\n",
    "def fit(num_epochs, model, loss_fn, opt, train_dl):\n",
    "    \n",
    "    #Repeat for given number of epochs    \n",
    "    for epoch in range(num_epochs):\n",
    "        \n",
    "\n",
    "        #Train with batches of data\n",
    "        for xb, yb in train_dl:\n",
    "            \n",
    "            # 1.Generate predictions\n",
    "            pred = model(xb)\n",
    "            \n",
    "            # 2. Calculate loss\n",
    "            loss = loss_fn(pred, yb)\n",
    "             \n",
    "            # 3. Compute gradients\n",
    "            loss.backward()\n",
    "            \n",
    "            # 4.Update parameters using gardients\n",
    "            opt.step()\n",
    "            \n",
    "            # 5.Reset the gradients to zero.\n",
    "            opt.zero_grad()\n",
    "            \n",
    "        #Print the progress    \n",
    "        if (epoch+1) %10 == 0:\n",
    "            print('Epoch [{}/{}], Loss : {:4f}'.format(epoch+1, num_epochs, loss.item()))"
   ]
  },
  {
   "cell_type": "code",
   "execution_count": 121,
   "id": "91b16fae",
   "metadata": {},
   "outputs": [
    {
     "name": "stdout",
     "output_type": "stream",
     "text": [
      "Epoch [10/250], Loss : 1.034997\n",
      "Epoch [20/250], Loss : 2.625138\n",
      "Epoch [30/250], Loss : 12.554012\n",
      "Epoch [40/250], Loss : 2.609461\n",
      "Epoch [50/250], Loss : 1.246300\n",
      "Epoch [60/250], Loss : 1.816636\n",
      "Epoch [70/250], Loss : 2.323189\n",
      "Epoch [80/250], Loss : 2.792947\n",
      "Epoch [90/250], Loss : 1.325228\n",
      "Epoch [100/250], Loss : 11.252731\n",
      "Epoch [110/250], Loss : 1.673355\n",
      "Epoch [120/250], Loss : 10.872148\n",
      "Epoch [130/250], Loss : 1.655259\n",
      "Epoch [140/250], Loss : 9.768641\n",
      "Epoch [150/250], Loss : 0.743281\n",
      "Epoch [160/250], Loss : 2.211322\n",
      "Epoch [170/250], Loss : 9.593760\n",
      "Epoch [180/250], Loss : 9.779832\n",
      "Epoch [190/250], Loss : 0.877714\n",
      "Epoch [200/250], Loss : 0.899505\n",
      "Epoch [210/250], Loss : 9.254358\n",
      "Epoch [220/250], Loss : 0.855214\n",
      "Epoch [230/250], Loss : 1.298751\n",
      "Epoch [240/250], Loss : 8.871955\n",
      "Epoch [250/250], Loss : 0.846492\n"
     ]
    }
   ],
   "source": [
    "fit(250, model, loss_fn, opt, train_dl)"
   ]
  },
  {
   "cell_type": "markdown",
   "id": "98c0c5f0",
   "metadata": {},
   "source": [
    "Generate predictions using our model and verifying that they are close to our targets"
   ]
  },
  {
   "cell_type": "code",
   "execution_count": 122,
   "id": "df5ed4bf",
   "metadata": {},
   "outputs": [
    {
     "data": {
      "text/plain": [
       "tensor([[ 57.2919,  70.6868],\n",
       "        [ 82.4485, 101.1112],\n",
       "        [118.6727, 133.5333],\n",
       "        [ 20.7676,  37.6470],\n",
       "        [102.5695, 119.3473],\n",
       "        [ 56.0336,  69.5969],\n",
       "        [ 82.3136, 101.2168],\n",
       "        [118.9675, 134.1432],\n",
       "        [ 22.0258,  38.7370],\n",
       "        [ 95.2534, 112.5718],\n",
       "        [ 57.1570,  70.7924],\n",
       "        [ 81.1902, 100.0212],\n",
       "        [118.8075, 133.4277],\n",
       "        [ 19.6442,  36.4515],\n",
       "        [103.8277, 120.4372]], grad_fn=<AddmmBackward0>)"
      ]
     },
     "execution_count": 122,
     "metadata": {},
     "output_type": "execute_result"
    }
   ],
   "source": [
    "#Generate predictions\n",
    "\n",
    "preds = model(input)\n",
    "preds"
   ]
  },
  {
   "cell_type": "code",
   "execution_count": 120,
   "id": "362e48c9",
   "metadata": {},
   "outputs": [
    {
     "data": {
      "text/plain": [
       "tensor([[ 56.,  70.],\n",
       "        [ 81., 101.],\n",
       "        [119., 133.],\n",
       "        [ 22.,  37.],\n",
       "        [103., 119.]])"
      ]
     },
     "execution_count": 120,
     "metadata": {},
     "output_type": "execute_result"
    }
   ],
   "source": [
    "#Compare with targets\n",
    "\n",
    "targets"
   ]
  },
  {
   "cell_type": "code",
   "execution_count": 123,
   "id": "9efffa51",
   "metadata": {},
   "outputs": [
    {
     "data": {
      "text/plain": [
       "tensor([[53.7966, 67.8154]], grad_fn=<AddmmBackward0>)"
      ]
     },
     "execution_count": 123,
     "metadata": {},
     "output_type": "execute_result"
    }
   ],
   "source": [
    "model(torch.tensor([[75,63,44.]]))      #testing the model"
   ]
  },
  {
   "cell_type": "markdown",
   "id": "2927b4b7",
   "metadata": {},
   "source": [
    "The predicted yield of apples is 53.79 tons per hectre and that of oranges is 67.81 tons per hectre"
   ]
  },
  {
   "cell_type": "code",
   "execution_count": null,
   "id": "95275247",
   "metadata": {},
   "outputs": [],
   "source": []
  }
 ],
 "metadata": {
  "kernelspec": {
   "display_name": "Python 3 (ipykernel)",
   "language": "python",
   "name": "python3"
  },
  "language_info": {
   "codemirror_mode": {
    "name": "ipython",
    "version": 3
   },
   "file_extension": ".py",
   "mimetype": "text/x-python",
   "name": "python",
   "nbconvert_exporter": "python",
   "pygments_lexer": "ipython3",
   "version": "3.11.7"
  }
 },
 "nbformat": 4,
 "nbformat_minor": 5
}
